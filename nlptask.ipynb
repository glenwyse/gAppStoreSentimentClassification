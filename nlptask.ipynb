{
  "nbformat": 4,
  "nbformat_minor": 0,
  "metadata": {
    "colab": {
      "provenance": []
    },
    "kernelspec": {
      "name": "python3",
      "display_name": "Python 3"
    },
    "language_info": {
      "name": "python"
    }
  },
  "cells": [
    {
      "cell_type": "markdown",
      "source": [
        "## **Creating the Dataset**\n"
      ],
      "metadata": {
        "id": "tWiy1SXvVfdh"
      }
    },
    {
      "cell_type": "code",
      "source": [
        "!pip install -qq google-play-scraper\n",
        "!pip install -qq -U watermark\n",
        "\n",
        "import json\n",
        "import pandas as pd\n",
        "from tqdm import tqdm\n",
        "\n",
        "import seaborn as sns\n",
        "import matplotlib.pyplot as plt\n",
        "\n",
        "from pygments import highlight\n",
        "from pygments.lexers import JsonLexer\n",
        "from pygments.formatters import TerminalFormatter\n",
        "\n",
        "from google_play_scraper import Sort, reviews, app"
      ],
      "metadata": {
        "id": "wR-SJkI9VQm7"
      },
      "execution_count": 1,
      "outputs": []
    },
    {
      "cell_type": "markdown",
      "source": [
        "App that we're going to pick. We need the package name, this can be found in the url tab when you open the page.\n",
        "\n",
        "In this case,\n",
        "https://play.google.com/store/apps/details?id=com.zy.wqmt.global&hl=en&gl=US\n",
        "\n",
        "com.zy.wqmt.global is the package"
      ],
      "metadata": {
        "id": "ag5UMqvQWUal"
      }
    },
    {
      "cell_type": "code",
      "metadata": {
        "id": "zusDZbd4AoOG",
        "outputId": "c8561520-36c7-47f2-9fa4-726f3d284737",
        "colab": {
          "base_uri": "https://localhost:8080/"
        }
      },
      "source": [
        "info = app('com.YoStarEN.Arknights',lang='en',country='us')\n",
        "del info['comments']\n",
        "print(info)"
      ],
      "execution_count": 2,
      "outputs": [
        {
          "output_type": "stream",
          "name": "stdout",
          "text": [
            "{'title': 'Arknights', 'description': \"Take on the role of a key member of Rhodes Island, a pharmaceutical company that fights both a deadly infection and the unrest it leaves in its wake. Together with your leader Amiya, you’ll recruit Operators, train them, then assign them to various operations to protect the innocent and resist those who would thrust the world into turmoil.\\r\\n\\r\\n\\r\\nYour tactics will determine the future of Rhodes Island. Fight for the Dawn!\\r\\n\\r\\n・Gorgeous anime-style game with a perfect combination of RPG and strategy elements\\r\\n・Hundreds of unique Operators across a variety of classes open up countless gameplay options\\r\\n・Auto Deploy system conveniently allows you to free up your hands\\r\\n・Carve out a home, just the way you want it, with the Base construction system\\r\\n・A robust soundtrack and some of the most famous Japanese voice actors and actresses will give you a sublime auditory experience.\\r\\n\\r\\nPermission: WRITE_EXTERNAL_STORAGE and READ_EXTERNAL_STORAGE.\\r\\nThis enables user to download a hotfix package immediately when it's available. This does not compromise user's privacy.\\r\\n\\r\\nMinimum configuration for Android devices: 2G RAM, 2G free storage space.\\r\\n\\r\\nArknights Official Homepage:\\r\\nhttps://www.arknights.global/\\r\\n\\r\\nOfficial Discord Server:\\r\\nhttps://discord.gg/arknights\\r\\n\\r\\nOfficial Twitter Account:\\r\\nhttps://twitter.com/ArknightsEN\\r\\n\\r\\nOfficial Facebook Page:\\r\\nhttps://www.facebook.com/ArknightsGlobal/\\r\\n\\r\\nOfficial Instagram:\\r\\nhttps://www.instagram.com/arknights_messenger_official/\", 'descriptionHTML': 'Take on the role of a key member of Rhodes Island, a pharmaceutical company that fights both a deadly infection and the unrest it leaves in its wake. Together with your leader Amiya, you’ll recruit Operators, train them, then assign them to various operations to protect the innocent and resist those who would thrust the world into turmoil.<br><br><br>Your tactics will determine the future of Rhodes Island. Fight for the Dawn!<br><br>・Gorgeous anime-style game with a perfect combination of RPG and strategy elements<br>・Hundreds of unique Operators across a variety of classes open up countless gameplay options<br>・Auto Deploy system conveniently allows you to free up your hands<br>・Carve out a home, just the way you want it, with the Base construction system<br>・A robust soundtrack and some of the most famous Japanese voice actors and actresses will give you a sublime auditory experience.<br><br>Permission: WRITE_EXTERNAL_STORAGE and READ_EXTERNAL_STORAGE.<br>This enables user to download a hotfix package immediately when it&#39;s available. This does not compromise user&#39;s privacy.<br><br>Minimum configuration for Android devices: 2G RAM, 2G free storage space.<br><br>Arknights Official Homepage:<br>https://www.arknights.global/<br><br>Official Discord Server:<br>https://discord.gg/arknights<br><br>Official Twitter Account:<br>https://twitter.com/ArknightsEN<br><br>Official Facebook Page:<br>https://www.facebook.com/ArknightsGlobal/<br><br>Official Instagram:<br>https://www.instagram.com/arknights_messenger_official/', 'summary': 'Through the darkness, we see light', 'installs': '5,000,000+', 'minInstalls': 5000000, 'realInstalls': 6300746, 'score': 4.4685097, 'ratings': 186756, 'reviews': 9063, 'histogram': [13978, 4766, 7054, 14893, 146042], 'price': 0, 'free': True, 'currency': 'USD', 'sale': False, 'saleTime': None, 'originalPrice': None, 'saleText': None, 'offersIAP': True, 'inAppProductPrice': '$0.99 - $99.99 per item', 'developer': 'Yostar Limited.', 'developerId': '5501543544118454799', 'developerEmail': 'arknights.en.cs@yo-star.com', 'developerWebsite': 'https://www.arknights.global', 'developerAddress': 'Room 06,13A/F.,South Tower,World Finance Centre,Harbour City,17 Canton Road,Tsim Sha Tsui,Kowloon,Hong Kong', 'privacyPolicy': 'https://www.arknights.global/privacy_policy', 'genre': 'Strategy', 'genreId': 'GAME_STRATEGY', 'categories': [{'name': 'Strategy', 'id': 'GAME_STRATEGY'}, {'name': 'Tactics', 'id': None}, {'name': 'Casual', 'id': 'GAME_CASUAL'}, {'name': 'Single player', 'id': None}, {'name': 'Stylized', 'id': None}, {'name': 'Anime', 'id': None}], 'icon': 'https://play-lh.googleusercontent.com/D4DUUFQDCsH9NIEa8hjMjQSWdtNhGX1Fd_jT-23ogAb5uMMqttqQDUJcUt4K_u8RYOQ', 'headerImage': 'https://play-lh.googleusercontent.com/3B2aW4Nka4xiq35ywcD5b5Rqb6IJw0ffm_QFlHM_rV9ex7wKtb0ddFOX8LJPxkemb78', 'screenshots': ['https://play-lh.googleusercontent.com/3Xe-Piz0LFGpJeh0FD8QdZVQDlDO-V_YQHXY2Tlrn359ZgzvdLWgFvLAA2uETBFI0jFx', 'https://play-lh.googleusercontent.com/mps15yXK_OFwlkfDonHoWBVBVOnVj19I4kcpMCOZlO8Qgl8F00Q1nbyhu6KeOYn9JqW6', 'https://play-lh.googleusercontent.com/IaD3UBvwsYTpfvVYs-3MRGk_F4YVq2lYOKqu2LmWYRc5ltkUfaST8ngdqtmsuBWLCdg', 'https://play-lh.googleusercontent.com/4tfV6mQHyP_NvPGvD6c_Wf59r34ZOCBfP1Jf_4zEmJ37ZcXVDxV43SztQUStxexwuIo', 'https://play-lh.googleusercontent.com/01Exq8Ecu4uCzN_uT6wTRtwacl6Td4031tzOqMyVWX1lR2gPfgPk2k23_jplTpJ_dqs', 'https://play-lh.googleusercontent.com/22xFnRHqcUnTCzzuldY_cbHiL8qOlgqxZZJwHsTvZYmsTbX8V_vZ9JsxBWK1LVSXMhw', 'https://play-lh.googleusercontent.com/pX-tt_lcHTIPzfei3gS5QxMNfFqlOss_0aNq7OWTItfvZ22gurN-rKZio2ztm27joDQ', 'https://play-lh.googleusercontent.com/1x2PEJjCKxzjwf5FAWbAFCtTmbYZ-Q6rH459Wu9zm6LY4MFCdYC5q1TiZ48TzNomjXQ', 'https://play-lh.googleusercontent.com/R6iy-_t7F1CzL6OBMdkwaKS1fj0xl_npY3kaDwZxzzzgysa26OStme8DL0Z0Bi91OTE', 'https://play-lh.googleusercontent.com/pGVhvnOHwPlwII1Tu_WgIeQi0uLI2fQjKJMrhK6S_yqo-GOYYw6Qy_edKYWISmjYkRY', 'https://play-lh.googleusercontent.com/dIa3ft_2qRFpp1LwziKHSDDxnm_8Fkw4dED2aRV-ChiEDEfszlvcqm32KPXi2Wq3G4I', 'https://play-lh.googleusercontent.com/8tbheSth1al20_rTckELYyAfXWP-xym6pd9Jl7hyfioPScE-D1RkWtNGouprI885y6E', 'https://play-lh.googleusercontent.com/uuovTdmar2vqWKs3qJsAAyQKHg0MLQkykbJbv-516ly3LS9UnnN8yY8Nei2Buq8d0Hk', 'https://play-lh.googleusercontent.com/1A2xesMv7WiLNchPnJZaodblsPlCp6zJL-Fgu8eiRz9DrO8WKO9_-yXu2FadRyBJ3tdI', 'https://play-lh.googleusercontent.com/PT_1MDBHZAD011LPKGT2t5iNrzuD5yPPgWOrCqMRjXFoOtyIrW-nEjQOpQbvPAkSqqA', 'https://play-lh.googleusercontent.com/uEOpgnbCz7iIrm_vf96p7pNTdD6CnXddGh2G87igWjrGqnDBteWeNNiUkdYJR20myuY', 'https://play-lh.googleusercontent.com/YlIYIU-kCBgmmlHY64ckpTpXBo_i4cHDTMgtbkRXWUyRnjjkDAcwFumgxU86hA0QmXk', 'https://play-lh.googleusercontent.com/FEPB4gWR-NOVzDBBXvjHzUOVN_Xit8qA43sq6AENWe22rM7e2HhQeaaT5Sq2_1k-MW0', 'https://play-lh.googleusercontent.com/w6lHF6mhzHNgjUm3JjZKIgB3KomNOeW1OfYFrdFVBOQZepDDWGdAL27teM5el4s97f4'], 'video': None, 'videoImage': None, 'contentRating': 'Teen', 'contentRatingDescription': 'Violence, Blood, Use of Alcohol, Language', 'adSupported': False, 'containsAds': False, 'released': 'Jan 15, 2020', 'updated': 1697707272, 'version': '19.0.01', 'appId': 'com.YoStarEN.Arknights', 'url': 'https://play.google.com/store/apps/details?id=com.YoStarEN.Arknights&hl=en&gl=us'}\n"
          ]
        }
      ]
    },
    {
      "cell_type": "markdown",
      "source": [
        "Using json to tidy the presentation"
      ],
      "metadata": {
        "id": "3wV8KQPPZgii"
      }
    },
    {
      "cell_type": "code",
      "source": [
        "def print_json(json_object):\n",
        "  json_str = json.dumps(\n",
        "    json_object,\n",
        "    indent=2,\n",
        "    sort_keys=True,\n",
        "    default=str\n",
        "  )\n",
        "  print(highlight(json_str, JsonLexer(), TerminalFormatter()))"
      ],
      "metadata": {
        "id": "LBpI2bN1ZkyY"
      },
      "execution_count": 3,
      "outputs": []
    },
    {
      "cell_type": "code",
      "source": [
        "print_json(info)"
      ],
      "metadata": {
        "colab": {
          "base_uri": "https://localhost:8080/"
        },
        "id": "jPJqztA0ZpRd",
        "outputId": "f1993b81-b9cb-49a9-b581-c07db90e297a"
      },
      "execution_count": 4,
      "outputs": [
        {
          "output_type": "stream",
          "name": "stdout",
          "text": [
            "{\u001b[37m\u001b[39;49;00m\n",
            "\u001b[37m  \u001b[39;49;00m\u001b[94m\"adSupported\"\u001b[39;49;00m:\u001b[37m \u001b[39;49;00m\u001b[34mfalse\u001b[39;49;00m,\u001b[37m\u001b[39;49;00m\n",
            "\u001b[37m  \u001b[39;49;00m\u001b[94m\"appId\"\u001b[39;49;00m:\u001b[37m \u001b[39;49;00m\u001b[33m\"com.YoStarEN.Arknights\"\u001b[39;49;00m,\u001b[37m\u001b[39;49;00m\n",
            "\u001b[37m  \u001b[39;49;00m\u001b[94m\"categories\"\u001b[39;49;00m:\u001b[37m \u001b[39;49;00m[\u001b[37m\u001b[39;49;00m\n",
            "\u001b[37m    \u001b[39;49;00m{\u001b[37m\u001b[39;49;00m\n",
            "\u001b[37m      \u001b[39;49;00m\u001b[94m\"id\"\u001b[39;49;00m:\u001b[37m \u001b[39;49;00m\u001b[33m\"GAME_STRATEGY\"\u001b[39;49;00m,\u001b[37m\u001b[39;49;00m\n",
            "\u001b[37m      \u001b[39;49;00m\u001b[94m\"name\"\u001b[39;49;00m:\u001b[37m \u001b[39;49;00m\u001b[33m\"Strategy\"\u001b[39;49;00m\u001b[37m\u001b[39;49;00m\n",
            "\u001b[37m    \u001b[39;49;00m},\u001b[37m\u001b[39;49;00m\n",
            "\u001b[37m    \u001b[39;49;00m{\u001b[37m\u001b[39;49;00m\n",
            "\u001b[37m      \u001b[39;49;00m\u001b[94m\"id\"\u001b[39;49;00m:\u001b[37m \u001b[39;49;00m\u001b[34mnull\u001b[39;49;00m,\u001b[37m\u001b[39;49;00m\n",
            "\u001b[37m      \u001b[39;49;00m\u001b[94m\"name\"\u001b[39;49;00m:\u001b[37m \u001b[39;49;00m\u001b[33m\"Tactics\"\u001b[39;49;00m\u001b[37m\u001b[39;49;00m\n",
            "\u001b[37m    \u001b[39;49;00m},\u001b[37m\u001b[39;49;00m\n",
            "\u001b[37m    \u001b[39;49;00m{\u001b[37m\u001b[39;49;00m\n",
            "\u001b[37m      \u001b[39;49;00m\u001b[94m\"id\"\u001b[39;49;00m:\u001b[37m \u001b[39;49;00m\u001b[33m\"GAME_CASUAL\"\u001b[39;49;00m,\u001b[37m\u001b[39;49;00m\n",
            "\u001b[37m      \u001b[39;49;00m\u001b[94m\"name\"\u001b[39;49;00m:\u001b[37m \u001b[39;49;00m\u001b[33m\"Casual\"\u001b[39;49;00m\u001b[37m\u001b[39;49;00m\n",
            "\u001b[37m    \u001b[39;49;00m},\u001b[37m\u001b[39;49;00m\n",
            "\u001b[37m    \u001b[39;49;00m{\u001b[37m\u001b[39;49;00m\n",
            "\u001b[37m      \u001b[39;49;00m\u001b[94m\"id\"\u001b[39;49;00m:\u001b[37m \u001b[39;49;00m\u001b[34mnull\u001b[39;49;00m,\u001b[37m\u001b[39;49;00m\n",
            "\u001b[37m      \u001b[39;49;00m\u001b[94m\"name\"\u001b[39;49;00m:\u001b[37m \u001b[39;49;00m\u001b[33m\"Single player\"\u001b[39;49;00m\u001b[37m\u001b[39;49;00m\n",
            "\u001b[37m    \u001b[39;49;00m},\u001b[37m\u001b[39;49;00m\n",
            "\u001b[37m    \u001b[39;49;00m{\u001b[37m\u001b[39;49;00m\n",
            "\u001b[37m      \u001b[39;49;00m\u001b[94m\"id\"\u001b[39;49;00m:\u001b[37m \u001b[39;49;00m\u001b[34mnull\u001b[39;49;00m,\u001b[37m\u001b[39;49;00m\n",
            "\u001b[37m      \u001b[39;49;00m\u001b[94m\"name\"\u001b[39;49;00m:\u001b[37m \u001b[39;49;00m\u001b[33m\"Stylized\"\u001b[39;49;00m\u001b[37m\u001b[39;49;00m\n",
            "\u001b[37m    \u001b[39;49;00m},\u001b[37m\u001b[39;49;00m\n",
            "\u001b[37m    \u001b[39;49;00m{\u001b[37m\u001b[39;49;00m\n",
            "\u001b[37m      \u001b[39;49;00m\u001b[94m\"id\"\u001b[39;49;00m:\u001b[37m \u001b[39;49;00m\u001b[34mnull\u001b[39;49;00m,\u001b[37m\u001b[39;49;00m\n",
            "\u001b[37m      \u001b[39;49;00m\u001b[94m\"name\"\u001b[39;49;00m:\u001b[37m \u001b[39;49;00m\u001b[33m\"Anime\"\u001b[39;49;00m\u001b[37m\u001b[39;49;00m\n",
            "\u001b[37m    \u001b[39;49;00m}\u001b[37m\u001b[39;49;00m\n",
            "\u001b[37m  \u001b[39;49;00m],\u001b[37m\u001b[39;49;00m\n",
            "\u001b[37m  \u001b[39;49;00m\u001b[94m\"containsAds\"\u001b[39;49;00m:\u001b[37m \u001b[39;49;00m\u001b[34mfalse\u001b[39;49;00m,\u001b[37m\u001b[39;49;00m\n",
            "\u001b[37m  \u001b[39;49;00m\u001b[94m\"contentRating\"\u001b[39;49;00m:\u001b[37m \u001b[39;49;00m\u001b[33m\"Teen\"\u001b[39;49;00m,\u001b[37m\u001b[39;49;00m\n",
            "\u001b[37m  \u001b[39;49;00m\u001b[94m\"contentRatingDescription\"\u001b[39;49;00m:\u001b[37m \u001b[39;49;00m\u001b[33m\"Violence, Blood, Use of Alcohol, Language\"\u001b[39;49;00m,\u001b[37m\u001b[39;49;00m\n",
            "\u001b[37m  \u001b[39;49;00m\u001b[94m\"currency\"\u001b[39;49;00m:\u001b[37m \u001b[39;49;00m\u001b[33m\"USD\"\u001b[39;49;00m,\u001b[37m\u001b[39;49;00m\n",
            "\u001b[37m  \u001b[39;49;00m\u001b[94m\"description\"\u001b[39;49;00m:\u001b[37m \u001b[39;49;00m\u001b[33m\"Take on the role of a key member of Rhodes Island, a pharmaceutical company that fights both a deadly infection and the unrest it leaves in its wake. Together with your leader Amiya, you\\u2019ll recruit Operators, train them, then assign them to various operations to protect the innocent and resist those who would thrust the world into turmoil.\\r\\n\\r\\n\\r\\nYour tactics will determine the future of Rhodes Island. Fight for the Dawn!\\r\\n\\r\\n\\u30fbGorgeous anime-style game with a perfect combination of RPG and strategy elements\\r\\n\\u30fbHundreds of unique Operators across a variety of classes open up countless gameplay options\\r\\n\\u30fbAuto Deploy system conveniently allows you to free up your hands\\r\\n\\u30fbCarve out a home, just the way you want it, with the Base construction system\\r\\n\\u30fbA robust soundtrack and some of the most famous Japanese voice actors and actresses will give you a sublime auditory experience.\\r\\n\\r\\nPermission: WRITE_EXTERNAL_STORAGE and READ_EXTERNAL_STORAGE.\\r\\nThis enables user to download a hotfix package immediately when it's available. This does not compromise user's privacy.\\r\\n\\r\\nMinimum configuration for Android devices: 2G RAM, 2G free storage space.\\r\\n\\r\\nArknights Official Homepage:\\r\\nhttps://www.arknights.global/\\r\\n\\r\\nOfficial Discord Server:\\r\\nhttps://discord.gg/arknights\\r\\n\\r\\nOfficial Twitter Account:\\r\\nhttps://twitter.com/ArknightsEN\\r\\n\\r\\nOfficial Facebook Page:\\r\\nhttps://www.facebook.com/ArknightsGlobal/\\r\\n\\r\\nOfficial Instagram:\\r\\nhttps://www.instagram.com/arknights_messenger_official/\"\u001b[39;49;00m,\u001b[37m\u001b[39;49;00m\n",
            "\u001b[37m  \u001b[39;49;00m\u001b[94m\"descriptionHTML\"\u001b[39;49;00m:\u001b[37m \u001b[39;49;00m\u001b[33m\"Take on the role of a key member of Rhodes Island, a pharmaceutical company that fights both a deadly infection and the unrest it leaves in its wake. Together with your leader Amiya, you\\u2019ll recruit Operators, train them, then assign them to various operations to protect the innocent and resist those who would thrust the world into turmoil.<br><br><br>Your tactics will determine the future of Rhodes Island. Fight for the Dawn!<br><br>\\u30fbGorgeous anime-style game with a perfect combination of RPG and strategy elements<br>\\u30fbHundreds of unique Operators across a variety of classes open up countless gameplay options<br>\\u30fbAuto Deploy system conveniently allows you to free up your hands<br>\\u30fbCarve out a home, just the way you want it, with the Base construction system<br>\\u30fbA robust soundtrack and some of the most famous Japanese voice actors and actresses will give you a sublime auditory experience.<br><br>Permission: WRITE_EXTERNAL_STORAGE and READ_EXTERNAL_STORAGE.<br>This enables user to download a hotfix package immediately when it&#39;s available. This does not compromise user&#39;s privacy.<br><br>Minimum configuration for Android devices: 2G RAM, 2G free storage space.<br><br>Arknights Official Homepage:<br>https://www.arknights.global/<br><br>Official Discord Server:<br>https://discord.gg/arknights<br><br>Official Twitter Account:<br>https://twitter.com/ArknightsEN<br><br>Official Facebook Page:<br>https://www.facebook.com/ArknightsGlobal/<br><br>Official Instagram:<br>https://www.instagram.com/arknights_messenger_official/\"\u001b[39;49;00m,\u001b[37m\u001b[39;49;00m\n",
            "\u001b[37m  \u001b[39;49;00m\u001b[94m\"developer\"\u001b[39;49;00m:\u001b[37m \u001b[39;49;00m\u001b[33m\"Yostar Limited.\"\u001b[39;49;00m,\u001b[37m\u001b[39;49;00m\n",
            "\u001b[37m  \u001b[39;49;00m\u001b[94m\"developerAddress\"\u001b[39;49;00m:\u001b[37m \u001b[39;49;00m\u001b[33m\"Room 06,13A/F.,South Tower,World Finance Centre,Harbour City,17 Canton Road,Tsim Sha Tsui,Kowloon,Hong Kong\"\u001b[39;49;00m,\u001b[37m\u001b[39;49;00m\n",
            "\u001b[37m  \u001b[39;49;00m\u001b[94m\"developerEmail\"\u001b[39;49;00m:\u001b[37m \u001b[39;49;00m\u001b[33m\"arknights.en.cs@yo-star.com\"\u001b[39;49;00m,\u001b[37m\u001b[39;49;00m\n",
            "\u001b[37m  \u001b[39;49;00m\u001b[94m\"developerId\"\u001b[39;49;00m:\u001b[37m \u001b[39;49;00m\u001b[33m\"5501543544118454799\"\u001b[39;49;00m,\u001b[37m\u001b[39;49;00m\n",
            "\u001b[37m  \u001b[39;49;00m\u001b[94m\"developerWebsite\"\u001b[39;49;00m:\u001b[37m \u001b[39;49;00m\u001b[33m\"https://www.arknights.global\"\u001b[39;49;00m,\u001b[37m\u001b[39;49;00m\n",
            "\u001b[37m  \u001b[39;49;00m\u001b[94m\"free\"\u001b[39;49;00m:\u001b[37m \u001b[39;49;00m\u001b[34mtrue\u001b[39;49;00m,\u001b[37m\u001b[39;49;00m\n",
            "\u001b[37m  \u001b[39;49;00m\u001b[94m\"genre\"\u001b[39;49;00m:\u001b[37m \u001b[39;49;00m\u001b[33m\"Strategy\"\u001b[39;49;00m,\u001b[37m\u001b[39;49;00m\n",
            "\u001b[37m  \u001b[39;49;00m\u001b[94m\"genreId\"\u001b[39;49;00m:\u001b[37m \u001b[39;49;00m\u001b[33m\"GAME_STRATEGY\"\u001b[39;49;00m,\u001b[37m\u001b[39;49;00m\n",
            "\u001b[37m  \u001b[39;49;00m\u001b[94m\"headerImage\"\u001b[39;49;00m:\u001b[37m \u001b[39;49;00m\u001b[33m\"https://play-lh.googleusercontent.com/3B2aW4Nka4xiq35ywcD5b5Rqb6IJw0ffm_QFlHM_rV9ex7wKtb0ddFOX8LJPxkemb78\"\u001b[39;49;00m,\u001b[37m\u001b[39;49;00m\n",
            "\u001b[37m  \u001b[39;49;00m\u001b[94m\"histogram\"\u001b[39;49;00m:\u001b[37m \u001b[39;49;00m[\u001b[37m\u001b[39;49;00m\n",
            "\u001b[37m    \u001b[39;49;00m\u001b[34m13978\u001b[39;49;00m,\u001b[37m\u001b[39;49;00m\n",
            "\u001b[37m    \u001b[39;49;00m\u001b[34m4766\u001b[39;49;00m,\u001b[37m\u001b[39;49;00m\n",
            "\u001b[37m    \u001b[39;49;00m\u001b[34m7054\u001b[39;49;00m,\u001b[37m\u001b[39;49;00m\n",
            "\u001b[37m    \u001b[39;49;00m\u001b[34m14893\u001b[39;49;00m,\u001b[37m\u001b[39;49;00m\n",
            "\u001b[37m    \u001b[39;49;00m\u001b[34m146042\u001b[39;49;00m\u001b[37m\u001b[39;49;00m\n",
            "\u001b[37m  \u001b[39;49;00m],\u001b[37m\u001b[39;49;00m\n",
            "\u001b[37m  \u001b[39;49;00m\u001b[94m\"icon\"\u001b[39;49;00m:\u001b[37m \u001b[39;49;00m\u001b[33m\"https://play-lh.googleusercontent.com/D4DUUFQDCsH9NIEa8hjMjQSWdtNhGX1Fd_jT-23ogAb5uMMqttqQDUJcUt4K_u8RYOQ\"\u001b[39;49;00m,\u001b[37m\u001b[39;49;00m\n",
            "\u001b[37m  \u001b[39;49;00m\u001b[94m\"inAppProductPrice\"\u001b[39;49;00m:\u001b[37m \u001b[39;49;00m\u001b[33m\"$0.99 - $99.99 per item\"\u001b[39;49;00m,\u001b[37m\u001b[39;49;00m\n",
            "\u001b[37m  \u001b[39;49;00m\u001b[94m\"installs\"\u001b[39;49;00m:\u001b[37m \u001b[39;49;00m\u001b[33m\"5,000,000+\"\u001b[39;49;00m,\u001b[37m\u001b[39;49;00m\n",
            "\u001b[37m  \u001b[39;49;00m\u001b[94m\"minInstalls\"\u001b[39;49;00m:\u001b[37m \u001b[39;49;00m\u001b[34m5000000\u001b[39;49;00m,\u001b[37m\u001b[39;49;00m\n",
            "\u001b[37m  \u001b[39;49;00m\u001b[94m\"offersIAP\"\u001b[39;49;00m:\u001b[37m \u001b[39;49;00m\u001b[34mtrue\u001b[39;49;00m,\u001b[37m\u001b[39;49;00m\n",
            "\u001b[37m  \u001b[39;49;00m\u001b[94m\"originalPrice\"\u001b[39;49;00m:\u001b[37m \u001b[39;49;00m\u001b[34mnull\u001b[39;49;00m,\u001b[37m\u001b[39;49;00m\n",
            "\u001b[37m  \u001b[39;49;00m\u001b[94m\"price\"\u001b[39;49;00m:\u001b[37m \u001b[39;49;00m\u001b[34m0\u001b[39;49;00m,\u001b[37m\u001b[39;49;00m\n",
            "\u001b[37m  \u001b[39;49;00m\u001b[94m\"privacyPolicy\"\u001b[39;49;00m:\u001b[37m \u001b[39;49;00m\u001b[33m\"https://www.arknights.global/privacy_policy\"\u001b[39;49;00m,\u001b[37m\u001b[39;49;00m\n",
            "\u001b[37m  \u001b[39;49;00m\u001b[94m\"ratings\"\u001b[39;49;00m:\u001b[37m \u001b[39;49;00m\u001b[34m186756\u001b[39;49;00m,\u001b[37m\u001b[39;49;00m\n",
            "\u001b[37m  \u001b[39;49;00m\u001b[94m\"realInstalls\"\u001b[39;49;00m:\u001b[37m \u001b[39;49;00m\u001b[34m6300746\u001b[39;49;00m,\u001b[37m\u001b[39;49;00m\n",
            "\u001b[37m  \u001b[39;49;00m\u001b[94m\"released\"\u001b[39;49;00m:\u001b[37m \u001b[39;49;00m\u001b[33m\"Jan 15, 2020\"\u001b[39;49;00m,\u001b[37m\u001b[39;49;00m\n",
            "\u001b[37m  \u001b[39;49;00m\u001b[94m\"reviews\"\u001b[39;49;00m:\u001b[37m \u001b[39;49;00m\u001b[34m9063\u001b[39;49;00m,\u001b[37m\u001b[39;49;00m\n",
            "\u001b[37m  \u001b[39;49;00m\u001b[94m\"sale\"\u001b[39;49;00m:\u001b[37m \u001b[39;49;00m\u001b[34mfalse\u001b[39;49;00m,\u001b[37m\u001b[39;49;00m\n",
            "\u001b[37m  \u001b[39;49;00m\u001b[94m\"saleText\"\u001b[39;49;00m:\u001b[37m \u001b[39;49;00m\u001b[34mnull\u001b[39;49;00m,\u001b[37m\u001b[39;49;00m\n",
            "\u001b[37m  \u001b[39;49;00m\u001b[94m\"saleTime\"\u001b[39;49;00m:\u001b[37m \u001b[39;49;00m\u001b[34mnull\u001b[39;49;00m,\u001b[37m\u001b[39;49;00m\n",
            "\u001b[37m  \u001b[39;49;00m\u001b[94m\"score\"\u001b[39;49;00m:\u001b[37m \u001b[39;49;00m\u001b[34m4.4685097\u001b[39;49;00m,\u001b[37m\u001b[39;49;00m\n",
            "\u001b[37m  \u001b[39;49;00m\u001b[94m\"screenshots\"\u001b[39;49;00m:\u001b[37m \u001b[39;49;00m[\u001b[37m\u001b[39;49;00m\n",
            "\u001b[37m    \u001b[39;49;00m\u001b[33m\"https://play-lh.googleusercontent.com/3Xe-Piz0LFGpJeh0FD8QdZVQDlDO-V_YQHXY2Tlrn359ZgzvdLWgFvLAA2uETBFI0jFx\"\u001b[39;49;00m,\u001b[37m\u001b[39;49;00m\n",
            "\u001b[37m    \u001b[39;49;00m\u001b[33m\"https://play-lh.googleusercontent.com/mps15yXK_OFwlkfDonHoWBVBVOnVj19I4kcpMCOZlO8Qgl8F00Q1nbyhu6KeOYn9JqW6\"\u001b[39;49;00m,\u001b[37m\u001b[39;49;00m\n",
            "\u001b[37m    \u001b[39;49;00m\u001b[33m\"https://play-lh.googleusercontent.com/IaD3UBvwsYTpfvVYs-3MRGk_F4YVq2lYOKqu2LmWYRc5ltkUfaST8ngdqtmsuBWLCdg\"\u001b[39;49;00m,\u001b[37m\u001b[39;49;00m\n",
            "\u001b[37m    \u001b[39;49;00m\u001b[33m\"https://play-lh.googleusercontent.com/4tfV6mQHyP_NvPGvD6c_Wf59r34ZOCBfP1Jf_4zEmJ37ZcXVDxV43SztQUStxexwuIo\"\u001b[39;49;00m,\u001b[37m\u001b[39;49;00m\n",
            "\u001b[37m    \u001b[39;49;00m\u001b[33m\"https://play-lh.googleusercontent.com/01Exq8Ecu4uCzN_uT6wTRtwacl6Td4031tzOqMyVWX1lR2gPfgPk2k23_jplTpJ_dqs\"\u001b[39;49;00m,\u001b[37m\u001b[39;49;00m\n",
            "\u001b[37m    \u001b[39;49;00m\u001b[33m\"https://play-lh.googleusercontent.com/22xFnRHqcUnTCzzuldY_cbHiL8qOlgqxZZJwHsTvZYmsTbX8V_vZ9JsxBWK1LVSXMhw\"\u001b[39;49;00m,\u001b[37m\u001b[39;49;00m\n",
            "\u001b[37m    \u001b[39;49;00m\u001b[33m\"https://play-lh.googleusercontent.com/pX-tt_lcHTIPzfei3gS5QxMNfFqlOss_0aNq7OWTItfvZ22gurN-rKZio2ztm27joDQ\"\u001b[39;49;00m,\u001b[37m\u001b[39;49;00m\n",
            "\u001b[37m    \u001b[39;49;00m\u001b[33m\"https://play-lh.googleusercontent.com/1x2PEJjCKxzjwf5FAWbAFCtTmbYZ-Q6rH459Wu9zm6LY4MFCdYC5q1TiZ48TzNomjXQ\"\u001b[39;49;00m,\u001b[37m\u001b[39;49;00m\n",
            "\u001b[37m    \u001b[39;49;00m\u001b[33m\"https://play-lh.googleusercontent.com/R6iy-_t7F1CzL6OBMdkwaKS1fj0xl_npY3kaDwZxzzzgysa26OStme8DL0Z0Bi91OTE\"\u001b[39;49;00m,\u001b[37m\u001b[39;49;00m\n",
            "\u001b[37m    \u001b[39;49;00m\u001b[33m\"https://play-lh.googleusercontent.com/pGVhvnOHwPlwII1Tu_WgIeQi0uLI2fQjKJMrhK6S_yqo-GOYYw6Qy_edKYWISmjYkRY\"\u001b[39;49;00m,\u001b[37m\u001b[39;49;00m\n",
            "\u001b[37m    \u001b[39;49;00m\u001b[33m\"https://play-lh.googleusercontent.com/dIa3ft_2qRFpp1LwziKHSDDxnm_8Fkw4dED2aRV-ChiEDEfszlvcqm32KPXi2Wq3G4I\"\u001b[39;49;00m,\u001b[37m\u001b[39;49;00m\n",
            "\u001b[37m    \u001b[39;49;00m\u001b[33m\"https://play-lh.googleusercontent.com/8tbheSth1al20_rTckELYyAfXWP-xym6pd9Jl7hyfioPScE-D1RkWtNGouprI885y6E\"\u001b[39;49;00m,\u001b[37m\u001b[39;49;00m\n",
            "\u001b[37m    \u001b[39;49;00m\u001b[33m\"https://play-lh.googleusercontent.com/uuovTdmar2vqWKs3qJsAAyQKHg0MLQkykbJbv-516ly3LS9UnnN8yY8Nei2Buq8d0Hk\"\u001b[39;49;00m,\u001b[37m\u001b[39;49;00m\n",
            "\u001b[37m    \u001b[39;49;00m\u001b[33m\"https://play-lh.googleusercontent.com/1A2xesMv7WiLNchPnJZaodblsPlCp6zJL-Fgu8eiRz9DrO8WKO9_-yXu2FadRyBJ3tdI\"\u001b[39;49;00m,\u001b[37m\u001b[39;49;00m\n",
            "\u001b[37m    \u001b[39;49;00m\u001b[33m\"https://play-lh.googleusercontent.com/PT_1MDBHZAD011LPKGT2t5iNrzuD5yPPgWOrCqMRjXFoOtyIrW-nEjQOpQbvPAkSqqA\"\u001b[39;49;00m,\u001b[37m\u001b[39;49;00m\n",
            "\u001b[37m    \u001b[39;49;00m\u001b[33m\"https://play-lh.googleusercontent.com/uEOpgnbCz7iIrm_vf96p7pNTdD6CnXddGh2G87igWjrGqnDBteWeNNiUkdYJR20myuY\"\u001b[39;49;00m,\u001b[37m\u001b[39;49;00m\n",
            "\u001b[37m    \u001b[39;49;00m\u001b[33m\"https://play-lh.googleusercontent.com/YlIYIU-kCBgmmlHY64ckpTpXBo_i4cHDTMgtbkRXWUyRnjjkDAcwFumgxU86hA0QmXk\"\u001b[39;49;00m,\u001b[37m\u001b[39;49;00m\n",
            "\u001b[37m    \u001b[39;49;00m\u001b[33m\"https://play-lh.googleusercontent.com/FEPB4gWR-NOVzDBBXvjHzUOVN_Xit8qA43sq6AENWe22rM7e2HhQeaaT5Sq2_1k-MW0\"\u001b[39;49;00m,\u001b[37m\u001b[39;49;00m\n",
            "\u001b[37m    \u001b[39;49;00m\u001b[33m\"https://play-lh.googleusercontent.com/w6lHF6mhzHNgjUm3JjZKIgB3KomNOeW1OfYFrdFVBOQZepDDWGdAL27teM5el4s97f4\"\u001b[39;49;00m\u001b[37m\u001b[39;49;00m\n",
            "\u001b[37m  \u001b[39;49;00m],\u001b[37m\u001b[39;49;00m\n",
            "\u001b[37m  \u001b[39;49;00m\u001b[94m\"summary\"\u001b[39;49;00m:\u001b[37m \u001b[39;49;00m\u001b[33m\"Through the darkness, we see light\"\u001b[39;49;00m,\u001b[37m\u001b[39;49;00m\n",
            "\u001b[37m  \u001b[39;49;00m\u001b[94m\"title\"\u001b[39;49;00m:\u001b[37m \u001b[39;49;00m\u001b[33m\"Arknights\"\u001b[39;49;00m,\u001b[37m\u001b[39;49;00m\n",
            "\u001b[37m  \u001b[39;49;00m\u001b[94m\"updated\"\u001b[39;49;00m:\u001b[37m \u001b[39;49;00m\u001b[34m1697707272\u001b[39;49;00m,\u001b[37m\u001b[39;49;00m\n",
            "\u001b[37m  \u001b[39;49;00m\u001b[94m\"url\"\u001b[39;49;00m:\u001b[37m \u001b[39;49;00m\u001b[33m\"https://play.google.com/store/apps/details?id=com.YoStarEN.Arknights&hl=en&gl=us\"\u001b[39;49;00m,\u001b[37m\u001b[39;49;00m\n",
            "\u001b[37m  \u001b[39;49;00m\u001b[94m\"version\"\u001b[39;49;00m:\u001b[37m \u001b[39;49;00m\u001b[33m\"19.0.01\"\u001b[39;49;00m,\u001b[37m\u001b[39;49;00m\n",
            "\u001b[37m  \u001b[39;49;00m\u001b[94m\"video\"\u001b[39;49;00m:\u001b[37m \u001b[39;49;00m\u001b[34mnull\u001b[39;49;00m,\u001b[37m\u001b[39;49;00m\n",
            "\u001b[37m  \u001b[39;49;00m\u001b[94m\"videoImage\"\u001b[39;49;00m:\u001b[37m \u001b[39;49;00m\u001b[34mnull\u001b[39;49;00m\u001b[37m\u001b[39;49;00m\n",
            "}\u001b[37m\u001b[39;49;00m\n",
            "\n"
          ]
        }
      ]
    },
    {
      "cell_type": "markdown",
      "source": [
        "Scraping the reviews"
      ],
      "metadata": {
        "id": "-xrESKogkqJ6"
      }
    },
    {
      "cell_type": "code",
      "source": [
        "app_reviews = []\n",
        "\n",
        "for score in list(range(1, 6)):\n",
        "    for sort_order in [Sort.MOST_RELEVANT, Sort.NEWEST]:\n",
        "        rvs, _ = reviews(\n",
        "            'com.YoStarEN.Arknights',\n",
        "            lang='en',\n",
        "            country='us',\n",
        "            sort=sort_order,\n",
        "            count=1500 if score == 3 else 750,\n",
        "            filter_score_with=score\n",
        "        )\n",
        "        for r in rvs:\n",
        "            r['sortOrder'] = 'most_relevant' if sort_order == Sort.MOST_RELEVANT else 'newest'\n",
        "            r['appId'] = 'com.YoStarEN.Arknights'\n",
        "\n",
        "            # Skip reviews with less than 15 characters\n",
        "            if len(r['content']) < 15:\n",
        "                continue\n",
        "\n",
        "            # Append the review to app_reviews\n",
        "            app_reviews.append(r)\n"
      ],
      "metadata": {
        "id": "lY8p5ZBhkpKB"
      },
      "execution_count": 5,
      "outputs": []
    },
    {
      "cell_type": "markdown",
      "source": [
        "See a sample of 1 app review"
      ],
      "metadata": {
        "id": "v0G5kdS8lKsh"
      }
    },
    {
      "cell_type": "code",
      "source": [
        "print_json(app_reviews[0])"
      ],
      "metadata": {
        "colab": {
          "base_uri": "https://localhost:8080/"
        },
        "id": "Y2dDWAz-lKVL",
        "outputId": "c399eaa7-25b6-4375-d643-ace14457f5b8"
      },
      "execution_count": 6,
      "outputs": [
        {
          "output_type": "stream",
          "name": "stdout",
          "text": [
            "{\u001b[37m\u001b[39;49;00m\n",
            "\u001b[37m  \u001b[39;49;00m\u001b[94m\"appId\"\u001b[39;49;00m:\u001b[37m \u001b[39;49;00m\u001b[33m\"com.YoStarEN.Arknights\"\u001b[39;49;00m,\u001b[37m\u001b[39;49;00m\n",
            "\u001b[37m  \u001b[39;49;00m\u001b[94m\"appVersion\"\u001b[39;49;00m:\u001b[37m \u001b[39;49;00m\u001b[33m\"19.0.01\"\u001b[39;49;00m,\u001b[37m\u001b[39;49;00m\n",
            "\u001b[37m  \u001b[39;49;00m\u001b[94m\"at\"\u001b[39;49;00m:\u001b[37m \u001b[39;49;00m\u001b[33m\"2023-11-30 19:52:07\"\u001b[39;49;00m,\u001b[37m\u001b[39;49;00m\n",
            "\u001b[37m  \u001b[39;49;00m\u001b[94m\"content\"\u001b[39;49;00m:\u001b[37m \u001b[39;49;00m\u001b[33m\"Man it suck when your internet is down after you clear the stage and it count as lose so you have to back to main screen and start over again especially IS stage,and i think it's about time we have auto repeat or skip tickets or at least let us repeat in the finish screen so we dont have to wait loading to press auto battle again, also i think it's quite harsh for newbie when event come since they probably can't beat stage past some certain point and reduce their reward which i think it's harsh\"\u001b[39;49;00m,\u001b[37m\u001b[39;49;00m\n",
            "\u001b[37m  \u001b[39;49;00m\u001b[94m\"repliedAt\"\u001b[39;49;00m:\u001b[37m \u001b[39;49;00m\u001b[33m\"2023-12-04 08:35:20\"\u001b[39;49;00m,\u001b[37m\u001b[39;49;00m\n",
            "\u001b[37m  \u001b[39;49;00m\u001b[94m\"replyContent\"\u001b[39;49;00m:\u001b[37m \u001b[39;49;00m\u001b[33m\"Dear player, We've received your feedback! We can't make the game better without hearing from the communities. You can contact our CS e-mail address for more details. Our CS e-mail address: arknights.en.cs@yo-star.com.\\n\"\u001b[39;49;00m,\u001b[37m\u001b[39;49;00m\n",
            "\u001b[37m  \u001b[39;49;00m\u001b[94m\"reviewCreatedVersion\"\u001b[39;49;00m:\u001b[37m \u001b[39;49;00m\u001b[33m\"19.0.01\"\u001b[39;49;00m,\u001b[37m\u001b[39;49;00m\n",
            "\u001b[37m  \u001b[39;49;00m\u001b[94m\"reviewId\"\u001b[39;49;00m:\u001b[37m \u001b[39;49;00m\u001b[33m\"58926f78-7642-4e6b-baa4-28c54a223c96\"\u001b[39;49;00m,\u001b[37m\u001b[39;49;00m\n",
            "\u001b[37m  \u001b[39;49;00m\u001b[94m\"score\"\u001b[39;49;00m:\u001b[37m \u001b[39;49;00m\u001b[34m1\u001b[39;49;00m,\u001b[37m\u001b[39;49;00m\n",
            "\u001b[37m  \u001b[39;49;00m\u001b[94m\"sortOrder\"\u001b[39;49;00m:\u001b[37m \u001b[39;49;00m\u001b[33m\"most_relevant\"\u001b[39;49;00m,\u001b[37m\u001b[39;49;00m\n",
            "\u001b[37m  \u001b[39;49;00m\u001b[94m\"thumbsUpCount\"\u001b[39;49;00m:\u001b[37m \u001b[39;49;00m\u001b[34m2\u001b[39;49;00m,\u001b[37m\u001b[39;49;00m\n",
            "\u001b[37m  \u001b[39;49;00m\u001b[94m\"userImage\"\u001b[39;49;00m:\u001b[37m \u001b[39;49;00m\u001b[33m\"https://play-lh.googleusercontent.com/a-/ALV-UjVJlsHnkY0IjJPrbeBNLYRIa53rDcr5dxLfq4RFDuHQhA\"\u001b[39;49;00m,\u001b[37m\u001b[39;49;00m\n",
            "\u001b[37m  \u001b[39;49;00m\u001b[94m\"userName\"\u001b[39;49;00m:\u001b[37m \u001b[39;49;00m\u001b[33m\"Fatih Dhiyya\"\u001b[39;49;00m\u001b[37m\u001b[39;49;00m\n",
            "}\u001b[37m\u001b[39;49;00m\n",
            "\n"
          ]
        }
      ]
    },
    {
      "cell_type": "code",
      "source": [
        "len(app_reviews)"
      ],
      "metadata": {
        "colab": {
          "base_uri": "https://localhost:8080/"
        },
        "id": "2IcPCT4Hl5ZK",
        "outputId": "5e9c22e6-93e1-4c4e-e367-89a1d2b6f04d"
      },
      "execution_count": 7,
      "outputs": [
        {
          "output_type": "execute_result",
          "data": {
            "text/plain": [
              "8251"
            ]
          },
          "metadata": {},
          "execution_count": 7
        }
      ]
    },
    {
      "cell_type": "code",
      "source": [
        "app_reviews_df = pd.DataFrame(app_reviews)\n",
        "app_reviews_df.to_csv('reviews.csv', index=None, header=True)"
      ],
      "metadata": {
        "id": "ne7pW6EWl77t"
      },
      "execution_count": 8,
      "outputs": []
    },
    {
      "cell_type": "markdown",
      "source": [
        "## **Data Preprocessing**"
      ],
      "metadata": {
        "id": "USCEvsAYmTk5"
      }
    },
    {
      "cell_type": "markdown",
      "source": [
        "### Read the csv file"
      ],
      "metadata": {
        "id": "fi_BEYXdfEYN"
      }
    },
    {
      "cell_type": "code",
      "source": [
        "df = pd.read_csv(\"./reviews.csv\")\n",
        "df.head(3)"
      ],
      "metadata": {
        "colab": {
          "base_uri": "https://localhost:8080/",
          "height": 476
        },
        "id": "ig3XkOUrS5qU",
        "outputId": "08346866-9b84-4cf9-adb2-70a171e8f933"
      },
      "execution_count": 9,
      "outputs": [
        {
          "output_type": "execute_result",
          "data": {
            "text/plain": [
              "                               reviewId        userName  \\\n",
              "0  58926f78-7642-4e6b-baa4-28c54a223c96    Fatih Dhiyya   \n",
              "1  357a051d-cf45-432c-a9b2-d527b2a9267f  Divide By_Zero   \n",
              "2  b8a55d8d-0136-46c6-a5e5-394f987d49bb         shinami   \n",
              "\n",
              "                                           userImage  \\\n",
              "0  https://play-lh.googleusercontent.com/a-/ALV-U...   \n",
              "1  https://play-lh.googleusercontent.com/a-/ALV-U...   \n",
              "2  https://play-lh.googleusercontent.com/a/ACg8oc...   \n",
              "\n",
              "                                             content  score  thumbsUpCount  \\\n",
              "0  Man it suck when your internet is down after y...      1              2   \n",
              "1  Honestly, I've been falling into Gacha games a...      1              2   \n",
              "2  Teaches you basic tactics only for the followi...      1              4   \n",
              "\n",
              "  reviewCreatedVersion                   at  \\\n",
              "0              19.0.01  2023-11-30 19:52:07   \n",
              "1              19.0.01  2023-11-17 03:48:39   \n",
              "2              19.0.01  2023-11-22 06:44:20   \n",
              "\n",
              "                                        replyContent            repliedAt  \\\n",
              "0  Dear player, We've received your feedback! We ...  2023-12-04 08:35:20   \n",
              "1  Dear player, We've received your feedback and ...  2023-11-20 10:29:01   \n",
              "2  Dear player, We've received your feedback! May...  2023-11-27 07:57:39   \n",
              "\n",
              "  appVersion      sortOrder                   appId  \n",
              "0    19.0.01  most_relevant  com.YoStarEN.Arknights  \n",
              "1    19.0.01  most_relevant  com.YoStarEN.Arknights  \n",
              "2    19.0.01  most_relevant  com.YoStarEN.Arknights  "
            ],
            "text/html": [
              "\n",
              "  <div id=\"df-9212702a-268c-4c59-81f7-9b8fa53b393c\" class=\"colab-df-container\">\n",
              "    <div>\n",
              "<style scoped>\n",
              "    .dataframe tbody tr th:only-of-type {\n",
              "        vertical-align: middle;\n",
              "    }\n",
              "\n",
              "    .dataframe tbody tr th {\n",
              "        vertical-align: top;\n",
              "    }\n",
              "\n",
              "    .dataframe thead th {\n",
              "        text-align: right;\n",
              "    }\n",
              "</style>\n",
              "<table border=\"1\" class=\"dataframe\">\n",
              "  <thead>\n",
              "    <tr style=\"text-align: right;\">\n",
              "      <th></th>\n",
              "      <th>reviewId</th>\n",
              "      <th>userName</th>\n",
              "      <th>userImage</th>\n",
              "      <th>content</th>\n",
              "      <th>score</th>\n",
              "      <th>thumbsUpCount</th>\n",
              "      <th>reviewCreatedVersion</th>\n",
              "      <th>at</th>\n",
              "      <th>replyContent</th>\n",
              "      <th>repliedAt</th>\n",
              "      <th>appVersion</th>\n",
              "      <th>sortOrder</th>\n",
              "      <th>appId</th>\n",
              "    </tr>\n",
              "  </thead>\n",
              "  <tbody>\n",
              "    <tr>\n",
              "      <th>0</th>\n",
              "      <td>58926f78-7642-4e6b-baa4-28c54a223c96</td>\n",
              "      <td>Fatih Dhiyya</td>\n",
              "      <td>https://play-lh.googleusercontent.com/a-/ALV-U...</td>\n",
              "      <td>Man it suck when your internet is down after y...</td>\n",
              "      <td>1</td>\n",
              "      <td>2</td>\n",
              "      <td>19.0.01</td>\n",
              "      <td>2023-11-30 19:52:07</td>\n",
              "      <td>Dear player, We've received your feedback! We ...</td>\n",
              "      <td>2023-12-04 08:35:20</td>\n",
              "      <td>19.0.01</td>\n",
              "      <td>most_relevant</td>\n",
              "      <td>com.YoStarEN.Arknights</td>\n",
              "    </tr>\n",
              "    <tr>\n",
              "      <th>1</th>\n",
              "      <td>357a051d-cf45-432c-a9b2-d527b2a9267f</td>\n",
              "      <td>Divide By_Zero</td>\n",
              "      <td>https://play-lh.googleusercontent.com/a-/ALV-U...</td>\n",
              "      <td>Honestly, I've been falling into Gacha games a...</td>\n",
              "      <td>1</td>\n",
              "      <td>2</td>\n",
              "      <td>19.0.01</td>\n",
              "      <td>2023-11-17 03:48:39</td>\n",
              "      <td>Dear player, We've received your feedback and ...</td>\n",
              "      <td>2023-11-20 10:29:01</td>\n",
              "      <td>19.0.01</td>\n",
              "      <td>most_relevant</td>\n",
              "      <td>com.YoStarEN.Arknights</td>\n",
              "    </tr>\n",
              "    <tr>\n",
              "      <th>2</th>\n",
              "      <td>b8a55d8d-0136-46c6-a5e5-394f987d49bb</td>\n",
              "      <td>shinami</td>\n",
              "      <td>https://play-lh.googleusercontent.com/a/ACg8oc...</td>\n",
              "      <td>Teaches you basic tactics only for the followi...</td>\n",
              "      <td>1</td>\n",
              "      <td>4</td>\n",
              "      <td>19.0.01</td>\n",
              "      <td>2023-11-22 06:44:20</td>\n",
              "      <td>Dear player, We've received your feedback! May...</td>\n",
              "      <td>2023-11-27 07:57:39</td>\n",
              "      <td>19.0.01</td>\n",
              "      <td>most_relevant</td>\n",
              "      <td>com.YoStarEN.Arknights</td>\n",
              "    </tr>\n",
              "  </tbody>\n",
              "</table>\n",
              "</div>\n",
              "    <div class=\"colab-df-buttons\">\n",
              "\n",
              "  <div class=\"colab-df-container\">\n",
              "    <button class=\"colab-df-convert\" onclick=\"convertToInteractive('df-9212702a-268c-4c59-81f7-9b8fa53b393c')\"\n",
              "            title=\"Convert this dataframe to an interactive table.\"\n",
              "            style=\"display:none;\">\n",
              "\n",
              "  <svg xmlns=\"http://www.w3.org/2000/svg\" height=\"24px\" viewBox=\"0 -960 960 960\">\n",
              "    <path d=\"M120-120v-720h720v720H120Zm60-500h600v-160H180v160Zm220 220h160v-160H400v160Zm0 220h160v-160H400v160ZM180-400h160v-160H180v160Zm440 0h160v-160H620v160ZM180-180h160v-160H180v160Zm440 0h160v-160H620v160Z\"/>\n",
              "  </svg>\n",
              "    </button>\n",
              "\n",
              "  <style>\n",
              "    .colab-df-container {\n",
              "      display:flex;\n",
              "      gap: 12px;\n",
              "    }\n",
              "\n",
              "    .colab-df-convert {\n",
              "      background-color: #E8F0FE;\n",
              "      border: none;\n",
              "      border-radius: 50%;\n",
              "      cursor: pointer;\n",
              "      display: none;\n",
              "      fill: #1967D2;\n",
              "      height: 32px;\n",
              "      padding: 0 0 0 0;\n",
              "      width: 32px;\n",
              "    }\n",
              "\n",
              "    .colab-df-convert:hover {\n",
              "      background-color: #E2EBFA;\n",
              "      box-shadow: 0px 1px 2px rgba(60, 64, 67, 0.3), 0px 1px 3px 1px rgba(60, 64, 67, 0.15);\n",
              "      fill: #174EA6;\n",
              "    }\n",
              "\n",
              "    .colab-df-buttons div {\n",
              "      margin-bottom: 4px;\n",
              "    }\n",
              "\n",
              "    [theme=dark] .colab-df-convert {\n",
              "      background-color: #3B4455;\n",
              "      fill: #D2E3FC;\n",
              "    }\n",
              "\n",
              "    [theme=dark] .colab-df-convert:hover {\n",
              "      background-color: #434B5C;\n",
              "      box-shadow: 0px 1px 3px 1px rgba(0, 0, 0, 0.15);\n",
              "      filter: drop-shadow(0px 1px 2px rgba(0, 0, 0, 0.3));\n",
              "      fill: #FFFFFF;\n",
              "    }\n",
              "  </style>\n",
              "\n",
              "    <script>\n",
              "      const buttonEl =\n",
              "        document.querySelector('#df-9212702a-268c-4c59-81f7-9b8fa53b393c button.colab-df-convert');\n",
              "      buttonEl.style.display =\n",
              "        google.colab.kernel.accessAllowed ? 'block' : 'none';\n",
              "\n",
              "      async function convertToInteractive(key) {\n",
              "        const element = document.querySelector('#df-9212702a-268c-4c59-81f7-9b8fa53b393c');\n",
              "        const dataTable =\n",
              "          await google.colab.kernel.invokeFunction('convertToInteractive',\n",
              "                                                    [key], {});\n",
              "        if (!dataTable) return;\n",
              "\n",
              "        const docLinkHtml = 'Like what you see? Visit the ' +\n",
              "          '<a target=\"_blank\" href=https://colab.research.google.com/notebooks/data_table.ipynb>data table notebook</a>'\n",
              "          + ' to learn more about interactive tables.';\n",
              "        element.innerHTML = '';\n",
              "        dataTable['output_type'] = 'display_data';\n",
              "        await google.colab.output.renderOutput(dataTable, element);\n",
              "        const docLink = document.createElement('div');\n",
              "        docLink.innerHTML = docLinkHtml;\n",
              "        element.appendChild(docLink);\n",
              "      }\n",
              "    </script>\n",
              "  </div>\n",
              "\n",
              "\n",
              "<div id=\"df-f4012f70-2131-48c5-a8fb-5bae370ff980\">\n",
              "  <button class=\"colab-df-quickchart\" onclick=\"quickchart('df-f4012f70-2131-48c5-a8fb-5bae370ff980')\"\n",
              "            title=\"Suggest charts\"\n",
              "            style=\"display:none;\">\n",
              "\n",
              "<svg xmlns=\"http://www.w3.org/2000/svg\" height=\"24px\"viewBox=\"0 0 24 24\"\n",
              "     width=\"24px\">\n",
              "    <g>\n",
              "        <path d=\"M19 3H5c-1.1 0-2 .9-2 2v14c0 1.1.9 2 2 2h14c1.1 0 2-.9 2-2V5c0-1.1-.9-2-2-2zM9 17H7v-7h2v7zm4 0h-2V7h2v10zm4 0h-2v-4h2v4z\"/>\n",
              "    </g>\n",
              "</svg>\n",
              "  </button>\n",
              "\n",
              "<style>\n",
              "  .colab-df-quickchart {\n",
              "      --bg-color: #E8F0FE;\n",
              "      --fill-color: #1967D2;\n",
              "      --hover-bg-color: #E2EBFA;\n",
              "      --hover-fill-color: #174EA6;\n",
              "      --disabled-fill-color: #AAA;\n",
              "      --disabled-bg-color: #DDD;\n",
              "  }\n",
              "\n",
              "  [theme=dark] .colab-df-quickchart {\n",
              "      --bg-color: #3B4455;\n",
              "      --fill-color: #D2E3FC;\n",
              "      --hover-bg-color: #434B5C;\n",
              "      --hover-fill-color: #FFFFFF;\n",
              "      --disabled-bg-color: #3B4455;\n",
              "      --disabled-fill-color: #666;\n",
              "  }\n",
              "\n",
              "  .colab-df-quickchart {\n",
              "    background-color: var(--bg-color);\n",
              "    border: none;\n",
              "    border-radius: 50%;\n",
              "    cursor: pointer;\n",
              "    display: none;\n",
              "    fill: var(--fill-color);\n",
              "    height: 32px;\n",
              "    padding: 0;\n",
              "    width: 32px;\n",
              "  }\n",
              "\n",
              "  .colab-df-quickchart:hover {\n",
              "    background-color: var(--hover-bg-color);\n",
              "    box-shadow: 0 1px 2px rgba(60, 64, 67, 0.3), 0 1px 3px 1px rgba(60, 64, 67, 0.15);\n",
              "    fill: var(--button-hover-fill-color);\n",
              "  }\n",
              "\n",
              "  .colab-df-quickchart-complete:disabled,\n",
              "  .colab-df-quickchart-complete:disabled:hover {\n",
              "    background-color: var(--disabled-bg-color);\n",
              "    fill: var(--disabled-fill-color);\n",
              "    box-shadow: none;\n",
              "  }\n",
              "\n",
              "  .colab-df-spinner {\n",
              "    border: 2px solid var(--fill-color);\n",
              "    border-color: transparent;\n",
              "    border-bottom-color: var(--fill-color);\n",
              "    animation:\n",
              "      spin 1s steps(1) infinite;\n",
              "  }\n",
              "\n",
              "  @keyframes spin {\n",
              "    0% {\n",
              "      border-color: transparent;\n",
              "      border-bottom-color: var(--fill-color);\n",
              "      border-left-color: var(--fill-color);\n",
              "    }\n",
              "    20% {\n",
              "      border-color: transparent;\n",
              "      border-left-color: var(--fill-color);\n",
              "      border-top-color: var(--fill-color);\n",
              "    }\n",
              "    30% {\n",
              "      border-color: transparent;\n",
              "      border-left-color: var(--fill-color);\n",
              "      border-top-color: var(--fill-color);\n",
              "      border-right-color: var(--fill-color);\n",
              "    }\n",
              "    40% {\n",
              "      border-color: transparent;\n",
              "      border-right-color: var(--fill-color);\n",
              "      border-top-color: var(--fill-color);\n",
              "    }\n",
              "    60% {\n",
              "      border-color: transparent;\n",
              "      border-right-color: var(--fill-color);\n",
              "    }\n",
              "    80% {\n",
              "      border-color: transparent;\n",
              "      border-right-color: var(--fill-color);\n",
              "      border-bottom-color: var(--fill-color);\n",
              "    }\n",
              "    90% {\n",
              "      border-color: transparent;\n",
              "      border-bottom-color: var(--fill-color);\n",
              "    }\n",
              "  }\n",
              "</style>\n",
              "\n",
              "  <script>\n",
              "    async function quickchart(key) {\n",
              "      const quickchartButtonEl =\n",
              "        document.querySelector('#' + key + ' button');\n",
              "      quickchartButtonEl.disabled = true;  // To prevent multiple clicks.\n",
              "      quickchartButtonEl.classList.add('colab-df-spinner');\n",
              "      try {\n",
              "        const charts = await google.colab.kernel.invokeFunction(\n",
              "            'suggestCharts', [key], {});\n",
              "      } catch (error) {\n",
              "        console.error('Error during call to suggestCharts:', error);\n",
              "      }\n",
              "      quickchartButtonEl.classList.remove('colab-df-spinner');\n",
              "      quickchartButtonEl.classList.add('colab-df-quickchart-complete');\n",
              "    }\n",
              "    (() => {\n",
              "      let quickchartButtonEl =\n",
              "        document.querySelector('#df-f4012f70-2131-48c5-a8fb-5bae370ff980 button');\n",
              "      quickchartButtonEl.style.display =\n",
              "        google.colab.kernel.accessAllowed ? 'block' : 'none';\n",
              "    })();\n",
              "  </script>\n",
              "</div>\n",
              "    </div>\n",
              "  </div>\n"
            ]
          },
          "metadata": {},
          "execution_count": 9
        }
      ]
    },
    {
      "cell_type": "code",
      "source": [
        "df.info()"
      ],
      "metadata": {
        "colab": {
          "base_uri": "https://localhost:8080/"
        },
        "id": "n8G-SFJkUDMa",
        "outputId": "bc60835d-4057-401b-b383-c2fde438f19b"
      },
      "execution_count": 10,
      "outputs": [
        {
          "output_type": "stream",
          "name": "stdout",
          "text": [
            "<class 'pandas.core.frame.DataFrame'>\n",
            "RangeIndex: 8251 entries, 0 to 8250\n",
            "Data columns (total 13 columns):\n",
            " #   Column                Non-Null Count  Dtype \n",
            "---  ------                --------------  ----- \n",
            " 0   reviewId              8251 non-null   object\n",
            " 1   userName              8251 non-null   object\n",
            " 2   userImage             8251 non-null   object\n",
            " 3   content               8251 non-null   object\n",
            " 4   score                 8251 non-null   int64 \n",
            " 5   thumbsUpCount         8251 non-null   int64 \n",
            " 6   reviewCreatedVersion  5889 non-null   object\n",
            " 7   at                    8251 non-null   object\n",
            " 8   replyContent          3596 non-null   object\n",
            " 9   repliedAt             3596 non-null   object\n",
            " 10  appVersion            5889 non-null   object\n",
            " 11  sortOrder             8251 non-null   object\n",
            " 12  appId                 8251 non-null   object\n",
            "dtypes: int64(2), object(11)\n",
            "memory usage: 838.1+ KB\n"
          ]
        }
      ]
    },
    {
      "cell_type": "markdown",
      "source": [
        "### Change rating 2 to 1 and 4 to 5"
      ],
      "metadata": {
        "id": "yRF6AO-lwAHh"
      }
    },
    {
      "cell_type": "code",
      "source": [
        "df['score'] = df['score'].replace({2: 1, 4: 5})\n",
        "\n",
        "df.head()"
      ],
      "metadata": {
        "colab": {
          "base_uri": "https://localhost:8080/",
          "height": 712
        },
        "id": "QCSYNUHKv_OB",
        "outputId": "31cad67e-e9e7-4f25-9f5c-7cfc74596e43"
      },
      "execution_count": 11,
      "outputs": [
        {
          "output_type": "execute_result",
          "data": {
            "text/plain": [
              "                               reviewId        userName  \\\n",
              "0  58926f78-7642-4e6b-baa4-28c54a223c96    Fatih Dhiyya   \n",
              "1  357a051d-cf45-432c-a9b2-d527b2a9267f  Divide By_Zero   \n",
              "2  b8a55d8d-0136-46c6-a5e5-394f987d49bb         shinami   \n",
              "3  2fdeeae2-160b-4d66-92ac-e31646fa911e    HulkGameCrit   \n",
              "4  e8159608-5904-4b6a-92c2-0739564b207e             N R   \n",
              "\n",
              "                                           userImage  \\\n",
              "0  https://play-lh.googleusercontent.com/a-/ALV-U...   \n",
              "1  https://play-lh.googleusercontent.com/a-/ALV-U...   \n",
              "2  https://play-lh.googleusercontent.com/a/ACg8oc...   \n",
              "3  https://play-lh.googleusercontent.com/a-/ALV-U...   \n",
              "4  https://play-lh.googleusercontent.com/a-/ALV-U...   \n",
              "\n",
              "                                             content  score  thumbsUpCount  \\\n",
              "0  Man it suck when your internet is down after y...      1              2   \n",
              "1  Honestly, I've been falling into Gacha games a...      1              2   \n",
              "2  Teaches you basic tactics only for the followi...      1              4   \n",
              "3  updated for lone trail: game continues to be u...      1              8   \n",
              "4  Horror for new players. 30 pulls, got nothing ...      1              6   \n",
              "\n",
              "  reviewCreatedVersion                   at  \\\n",
              "0              19.0.01  2023-11-30 19:52:07   \n",
              "1              19.0.01  2023-11-17 03:48:39   \n",
              "2              19.0.01  2023-11-22 06:44:20   \n",
              "3              19.0.01  2023-11-15 12:29:53   \n",
              "4              19.0.01  2023-11-06 20:35:08   \n",
              "\n",
              "                                        replyContent            repliedAt  \\\n",
              "0  Dear player, We've received your feedback! We ...  2023-12-04 08:35:20   \n",
              "1  Dear player, We've received your feedback and ...  2023-11-20 10:29:01   \n",
              "2  Dear player, We've received your feedback! May...  2023-11-27 07:57:39   \n",
              "3  Dear player, We've received your feedback! May...  2023-11-20 10:35:48   \n",
              "4                                                NaN                  NaN   \n",
              "\n",
              "  appVersion      sortOrder                   appId  \n",
              "0    19.0.01  most_relevant  com.YoStarEN.Arknights  \n",
              "1    19.0.01  most_relevant  com.YoStarEN.Arknights  \n",
              "2    19.0.01  most_relevant  com.YoStarEN.Arknights  \n",
              "3    19.0.01  most_relevant  com.YoStarEN.Arknights  \n",
              "4    19.0.01  most_relevant  com.YoStarEN.Arknights  "
            ],
            "text/html": [
              "\n",
              "  <div id=\"df-84b8733e-53f8-4c05-9932-326dc1ded47b\" class=\"colab-df-container\">\n",
              "    <div>\n",
              "<style scoped>\n",
              "    .dataframe tbody tr th:only-of-type {\n",
              "        vertical-align: middle;\n",
              "    }\n",
              "\n",
              "    .dataframe tbody tr th {\n",
              "        vertical-align: top;\n",
              "    }\n",
              "\n",
              "    .dataframe thead th {\n",
              "        text-align: right;\n",
              "    }\n",
              "</style>\n",
              "<table border=\"1\" class=\"dataframe\">\n",
              "  <thead>\n",
              "    <tr style=\"text-align: right;\">\n",
              "      <th></th>\n",
              "      <th>reviewId</th>\n",
              "      <th>userName</th>\n",
              "      <th>userImage</th>\n",
              "      <th>content</th>\n",
              "      <th>score</th>\n",
              "      <th>thumbsUpCount</th>\n",
              "      <th>reviewCreatedVersion</th>\n",
              "      <th>at</th>\n",
              "      <th>replyContent</th>\n",
              "      <th>repliedAt</th>\n",
              "      <th>appVersion</th>\n",
              "      <th>sortOrder</th>\n",
              "      <th>appId</th>\n",
              "    </tr>\n",
              "  </thead>\n",
              "  <tbody>\n",
              "    <tr>\n",
              "      <th>0</th>\n",
              "      <td>58926f78-7642-4e6b-baa4-28c54a223c96</td>\n",
              "      <td>Fatih Dhiyya</td>\n",
              "      <td>https://play-lh.googleusercontent.com/a-/ALV-U...</td>\n",
              "      <td>Man it suck when your internet is down after y...</td>\n",
              "      <td>1</td>\n",
              "      <td>2</td>\n",
              "      <td>19.0.01</td>\n",
              "      <td>2023-11-30 19:52:07</td>\n",
              "      <td>Dear player, We've received your feedback! We ...</td>\n",
              "      <td>2023-12-04 08:35:20</td>\n",
              "      <td>19.0.01</td>\n",
              "      <td>most_relevant</td>\n",
              "      <td>com.YoStarEN.Arknights</td>\n",
              "    </tr>\n",
              "    <tr>\n",
              "      <th>1</th>\n",
              "      <td>357a051d-cf45-432c-a9b2-d527b2a9267f</td>\n",
              "      <td>Divide By_Zero</td>\n",
              "      <td>https://play-lh.googleusercontent.com/a-/ALV-U...</td>\n",
              "      <td>Honestly, I've been falling into Gacha games a...</td>\n",
              "      <td>1</td>\n",
              "      <td>2</td>\n",
              "      <td>19.0.01</td>\n",
              "      <td>2023-11-17 03:48:39</td>\n",
              "      <td>Dear player, We've received your feedback and ...</td>\n",
              "      <td>2023-11-20 10:29:01</td>\n",
              "      <td>19.0.01</td>\n",
              "      <td>most_relevant</td>\n",
              "      <td>com.YoStarEN.Arknights</td>\n",
              "    </tr>\n",
              "    <tr>\n",
              "      <th>2</th>\n",
              "      <td>b8a55d8d-0136-46c6-a5e5-394f987d49bb</td>\n",
              "      <td>shinami</td>\n",
              "      <td>https://play-lh.googleusercontent.com/a/ACg8oc...</td>\n",
              "      <td>Teaches you basic tactics only for the followi...</td>\n",
              "      <td>1</td>\n",
              "      <td>4</td>\n",
              "      <td>19.0.01</td>\n",
              "      <td>2023-11-22 06:44:20</td>\n",
              "      <td>Dear player, We've received your feedback! May...</td>\n",
              "      <td>2023-11-27 07:57:39</td>\n",
              "      <td>19.0.01</td>\n",
              "      <td>most_relevant</td>\n",
              "      <td>com.YoStarEN.Arknights</td>\n",
              "    </tr>\n",
              "    <tr>\n",
              "      <th>3</th>\n",
              "      <td>2fdeeae2-160b-4d66-92ac-e31646fa911e</td>\n",
              "      <td>HulkGameCrit</td>\n",
              "      <td>https://play-lh.googleusercontent.com/a-/ALV-U...</td>\n",
              "      <td>updated for lone trail: game continues to be u...</td>\n",
              "      <td>1</td>\n",
              "      <td>8</td>\n",
              "      <td>19.0.01</td>\n",
              "      <td>2023-11-15 12:29:53</td>\n",
              "      <td>Dear player, We've received your feedback! May...</td>\n",
              "      <td>2023-11-20 10:35:48</td>\n",
              "      <td>19.0.01</td>\n",
              "      <td>most_relevant</td>\n",
              "      <td>com.YoStarEN.Arknights</td>\n",
              "    </tr>\n",
              "    <tr>\n",
              "      <th>4</th>\n",
              "      <td>e8159608-5904-4b6a-92c2-0739564b207e</td>\n",
              "      <td>N R</td>\n",
              "      <td>https://play-lh.googleusercontent.com/a-/ALV-U...</td>\n",
              "      <td>Horror for new players. 30 pulls, got nothing ...</td>\n",
              "      <td>1</td>\n",
              "      <td>6</td>\n",
              "      <td>19.0.01</td>\n",
              "      <td>2023-11-06 20:35:08</td>\n",
              "      <td>NaN</td>\n",
              "      <td>NaN</td>\n",
              "      <td>19.0.01</td>\n",
              "      <td>most_relevant</td>\n",
              "      <td>com.YoStarEN.Arknights</td>\n",
              "    </tr>\n",
              "  </tbody>\n",
              "</table>\n",
              "</div>\n",
              "    <div class=\"colab-df-buttons\">\n",
              "\n",
              "  <div class=\"colab-df-container\">\n",
              "    <button class=\"colab-df-convert\" onclick=\"convertToInteractive('df-84b8733e-53f8-4c05-9932-326dc1ded47b')\"\n",
              "            title=\"Convert this dataframe to an interactive table.\"\n",
              "            style=\"display:none;\">\n",
              "\n",
              "  <svg xmlns=\"http://www.w3.org/2000/svg\" height=\"24px\" viewBox=\"0 -960 960 960\">\n",
              "    <path d=\"M120-120v-720h720v720H120Zm60-500h600v-160H180v160Zm220 220h160v-160H400v160Zm0 220h160v-160H400v160ZM180-400h160v-160H180v160Zm440 0h160v-160H620v160ZM180-180h160v-160H180v160Zm440 0h160v-160H620v160Z\"/>\n",
              "  </svg>\n",
              "    </button>\n",
              "\n",
              "  <style>\n",
              "    .colab-df-container {\n",
              "      display:flex;\n",
              "      gap: 12px;\n",
              "    }\n",
              "\n",
              "    .colab-df-convert {\n",
              "      background-color: #E8F0FE;\n",
              "      border: none;\n",
              "      border-radius: 50%;\n",
              "      cursor: pointer;\n",
              "      display: none;\n",
              "      fill: #1967D2;\n",
              "      height: 32px;\n",
              "      padding: 0 0 0 0;\n",
              "      width: 32px;\n",
              "    }\n",
              "\n",
              "    .colab-df-convert:hover {\n",
              "      background-color: #E2EBFA;\n",
              "      box-shadow: 0px 1px 2px rgba(60, 64, 67, 0.3), 0px 1px 3px 1px rgba(60, 64, 67, 0.15);\n",
              "      fill: #174EA6;\n",
              "    }\n",
              "\n",
              "    .colab-df-buttons div {\n",
              "      margin-bottom: 4px;\n",
              "    }\n",
              "\n",
              "    [theme=dark] .colab-df-convert {\n",
              "      background-color: #3B4455;\n",
              "      fill: #D2E3FC;\n",
              "    }\n",
              "\n",
              "    [theme=dark] .colab-df-convert:hover {\n",
              "      background-color: #434B5C;\n",
              "      box-shadow: 0px 1px 3px 1px rgba(0, 0, 0, 0.15);\n",
              "      filter: drop-shadow(0px 1px 2px rgba(0, 0, 0, 0.3));\n",
              "      fill: #FFFFFF;\n",
              "    }\n",
              "  </style>\n",
              "\n",
              "    <script>\n",
              "      const buttonEl =\n",
              "        document.querySelector('#df-84b8733e-53f8-4c05-9932-326dc1ded47b button.colab-df-convert');\n",
              "      buttonEl.style.display =\n",
              "        google.colab.kernel.accessAllowed ? 'block' : 'none';\n",
              "\n",
              "      async function convertToInteractive(key) {\n",
              "        const element = document.querySelector('#df-84b8733e-53f8-4c05-9932-326dc1ded47b');\n",
              "        const dataTable =\n",
              "          await google.colab.kernel.invokeFunction('convertToInteractive',\n",
              "                                                    [key], {});\n",
              "        if (!dataTable) return;\n",
              "\n",
              "        const docLinkHtml = 'Like what you see? Visit the ' +\n",
              "          '<a target=\"_blank\" href=https://colab.research.google.com/notebooks/data_table.ipynb>data table notebook</a>'\n",
              "          + ' to learn more about interactive tables.';\n",
              "        element.innerHTML = '';\n",
              "        dataTable['output_type'] = 'display_data';\n",
              "        await google.colab.output.renderOutput(dataTable, element);\n",
              "        const docLink = document.createElement('div');\n",
              "        docLink.innerHTML = docLinkHtml;\n",
              "        element.appendChild(docLink);\n",
              "      }\n",
              "    </script>\n",
              "  </div>\n",
              "\n",
              "\n",
              "<div id=\"df-51212d53-85b6-4336-82f7-503feadfac54\">\n",
              "  <button class=\"colab-df-quickchart\" onclick=\"quickchart('df-51212d53-85b6-4336-82f7-503feadfac54')\"\n",
              "            title=\"Suggest charts\"\n",
              "            style=\"display:none;\">\n",
              "\n",
              "<svg xmlns=\"http://www.w3.org/2000/svg\" height=\"24px\"viewBox=\"0 0 24 24\"\n",
              "     width=\"24px\">\n",
              "    <g>\n",
              "        <path d=\"M19 3H5c-1.1 0-2 .9-2 2v14c0 1.1.9 2 2 2h14c1.1 0 2-.9 2-2V5c0-1.1-.9-2-2-2zM9 17H7v-7h2v7zm4 0h-2V7h2v10zm4 0h-2v-4h2v4z\"/>\n",
              "    </g>\n",
              "</svg>\n",
              "  </button>\n",
              "\n",
              "<style>\n",
              "  .colab-df-quickchart {\n",
              "      --bg-color: #E8F0FE;\n",
              "      --fill-color: #1967D2;\n",
              "      --hover-bg-color: #E2EBFA;\n",
              "      --hover-fill-color: #174EA6;\n",
              "      --disabled-fill-color: #AAA;\n",
              "      --disabled-bg-color: #DDD;\n",
              "  }\n",
              "\n",
              "  [theme=dark] .colab-df-quickchart {\n",
              "      --bg-color: #3B4455;\n",
              "      --fill-color: #D2E3FC;\n",
              "      --hover-bg-color: #434B5C;\n",
              "      --hover-fill-color: #FFFFFF;\n",
              "      --disabled-bg-color: #3B4455;\n",
              "      --disabled-fill-color: #666;\n",
              "  }\n",
              "\n",
              "  .colab-df-quickchart {\n",
              "    background-color: var(--bg-color);\n",
              "    border: none;\n",
              "    border-radius: 50%;\n",
              "    cursor: pointer;\n",
              "    display: none;\n",
              "    fill: var(--fill-color);\n",
              "    height: 32px;\n",
              "    padding: 0;\n",
              "    width: 32px;\n",
              "  }\n",
              "\n",
              "  .colab-df-quickchart:hover {\n",
              "    background-color: var(--hover-bg-color);\n",
              "    box-shadow: 0 1px 2px rgba(60, 64, 67, 0.3), 0 1px 3px 1px rgba(60, 64, 67, 0.15);\n",
              "    fill: var(--button-hover-fill-color);\n",
              "  }\n",
              "\n",
              "  .colab-df-quickchart-complete:disabled,\n",
              "  .colab-df-quickchart-complete:disabled:hover {\n",
              "    background-color: var(--disabled-bg-color);\n",
              "    fill: var(--disabled-fill-color);\n",
              "    box-shadow: none;\n",
              "  }\n",
              "\n",
              "  .colab-df-spinner {\n",
              "    border: 2px solid var(--fill-color);\n",
              "    border-color: transparent;\n",
              "    border-bottom-color: var(--fill-color);\n",
              "    animation:\n",
              "      spin 1s steps(1) infinite;\n",
              "  }\n",
              "\n",
              "  @keyframes spin {\n",
              "    0% {\n",
              "      border-color: transparent;\n",
              "      border-bottom-color: var(--fill-color);\n",
              "      border-left-color: var(--fill-color);\n",
              "    }\n",
              "    20% {\n",
              "      border-color: transparent;\n",
              "      border-left-color: var(--fill-color);\n",
              "      border-top-color: var(--fill-color);\n",
              "    }\n",
              "    30% {\n",
              "      border-color: transparent;\n",
              "      border-left-color: var(--fill-color);\n",
              "      border-top-color: var(--fill-color);\n",
              "      border-right-color: var(--fill-color);\n",
              "    }\n",
              "    40% {\n",
              "      border-color: transparent;\n",
              "      border-right-color: var(--fill-color);\n",
              "      border-top-color: var(--fill-color);\n",
              "    }\n",
              "    60% {\n",
              "      border-color: transparent;\n",
              "      border-right-color: var(--fill-color);\n",
              "    }\n",
              "    80% {\n",
              "      border-color: transparent;\n",
              "      border-right-color: var(--fill-color);\n",
              "      border-bottom-color: var(--fill-color);\n",
              "    }\n",
              "    90% {\n",
              "      border-color: transparent;\n",
              "      border-bottom-color: var(--fill-color);\n",
              "    }\n",
              "  }\n",
              "</style>\n",
              "\n",
              "  <script>\n",
              "    async function quickchart(key) {\n",
              "      const quickchartButtonEl =\n",
              "        document.querySelector('#' + key + ' button');\n",
              "      quickchartButtonEl.disabled = true;  // To prevent multiple clicks.\n",
              "      quickchartButtonEl.classList.add('colab-df-spinner');\n",
              "      try {\n",
              "        const charts = await google.colab.kernel.invokeFunction(\n",
              "            'suggestCharts', [key], {});\n",
              "      } catch (error) {\n",
              "        console.error('Error during call to suggestCharts:', error);\n",
              "      }\n",
              "      quickchartButtonEl.classList.remove('colab-df-spinner');\n",
              "      quickchartButtonEl.classList.add('colab-df-quickchart-complete');\n",
              "    }\n",
              "    (() => {\n",
              "      let quickchartButtonEl =\n",
              "        document.querySelector('#df-51212d53-85b6-4336-82f7-503feadfac54 button');\n",
              "      quickchartButtonEl.style.display =\n",
              "        google.colab.kernel.accessAllowed ? 'block' : 'none';\n",
              "    })();\n",
              "  </script>\n",
              "</div>\n",
              "    </div>\n",
              "  </div>\n"
            ]
          },
          "metadata": {},
          "execution_count": 11
        }
      ]
    },
    {
      "cell_type": "code",
      "source": [
        "\n",
        "counts = df['score'].value_counts().sort_index()\n",
        "\n",
        "# Create a bar chart\n",
        "plt.bar(counts.index, counts.values)\n",
        "\n",
        "# Add labels and a title\n",
        "plt.xlabel('Rating')\n",
        "plt.ylabel('Frequency')\n",
        "plt.title('Frequency of Ratings 1 to 5')\n",
        "\n",
        "# Show the plot\n",
        "plt.show()"
      ],
      "metadata": {
        "id": "ZAE8f6nuMqRh",
        "colab": {
          "base_uri": "https://localhost:8080/",
          "height": 472
        },
        "outputId": "20813cb6-793f-46ce-a225-62bb9b0abfa5"
      },
      "execution_count": 12,
      "outputs": [
        {
          "output_type": "display_data",
          "data": {
            "text/plain": [
              "<Figure size 640x480 with 1 Axes>"
            ],
            "image/png": "[encoded data removed]"
          },
          "metadata": {}
        }
      ]
    },
    {
      "cell_type": "markdown",
      "source": [
        "### Dropping irrelevant columns"
      ],
      "metadata": {
        "id": "l5jXZ12gSpVE"
      }
    },
    {
      "cell_type": "code",
      "source": [
        "df = df.drop(columns=['reviewId','userName','userImage','replyContent','repliedAt','appVersion','sortOrder','appId','at','reviewCreatedVersion','thumbsUpCount'],axis=1)\n",
        "df.head(5)"
      ],
      "metadata": {
        "id": "yXD7nXYgUHs1",
        "colab": {
          "base_uri": "https://localhost:8080/",
          "height": 206
        },
        "outputId": "892fcd52-fef2-406a-ff34-6320889ccd12"
      },
      "execution_count": 13,
      "outputs": [
        {
          "output_type": "execute_result",
          "data": {
            "text/plain": [
              "                                             content  score\n",
              "0  Man it suck when your internet is down after y...      1\n",
              "1  Honestly, I've been falling into Gacha games a...      1\n",
              "2  Teaches you basic tactics only for the followi...      1\n",
              "3  updated for lone trail: game continues to be u...      1\n",
              "4  Horror for new players. 30 pulls, got nothing ...      1"
            ],
            "text/html": [
              "\n",
              "  <div id=\"df-27c32606-9c0e-471d-9a23-f6a9a5e0fa57\" class=\"colab-df-container\">\n",
              "    <div>\n",
              "<style scoped>\n",
              "    .dataframe tbody tr th:only-of-type {\n",
              "        vertical-align: middle;\n",
              "    }\n",
              "\n",
              "    .dataframe tbody tr th {\n",
              "        vertical-align: top;\n",
              "    }\n",
              "\n",
              "    .dataframe thead th {\n",
              "        text-align: right;\n",
              "    }\n",
              "</style>\n",
              "<table border=\"1\" class=\"dataframe\">\n",
              "  <thead>\n",
              "    <tr style=\"text-align: right;\">\n",
              "      <th></th>\n",
              "      <th>content</th>\n",
              "      <th>score</th>\n",
              "    </tr>\n",
              "  </thead>\n",
              "  <tbody>\n",
              "    <tr>\n",
              "      <th>0</th>\n",
              "      <td>Man it suck when your internet is down after y...</td>\n",
              "      <td>1</td>\n",
              "    </tr>\n",
              "    <tr>\n",
              "      <th>1</th>\n",
              "      <td>Honestly, I've been falling into Gacha games a...</td>\n",
              "      <td>1</td>\n",
              "    </tr>\n",
              "    <tr>\n",
              "      <th>2</th>\n",
              "      <td>Teaches you basic tactics only for the followi...</td>\n",
              "      <td>1</td>\n",
              "    </tr>\n",
              "    <tr>\n",
              "      <th>3</th>\n",
              "      <td>updated for lone trail: game continues to be u...</td>\n",
              "      <td>1</td>\n",
              "    </tr>\n",
              "    <tr>\n",
              "      <th>4</th>\n",
              "      <td>Horror for new players. 30 pulls, got nothing ...</td>\n",
              "      <td>1</td>\n",
              "    </tr>\n",
              "  </tbody>\n",
              "</table>\n",
              "</div>\n",
              "    <div class=\"colab-df-buttons\">\n",
              "\n",
              "  <div class=\"colab-df-container\">\n",
              "    <button class=\"colab-df-convert\" onclick=\"convertToInteractive('df-27c32606-9c0e-471d-9a23-f6a9a5e0fa57')\"\n",
              "            title=\"Convert this dataframe to an interactive table.\"\n",
              "            style=\"display:none;\">\n",
              "\n",
              "  <svg xmlns=\"http://www.w3.org/2000/svg\" height=\"24px\" viewBox=\"0 -960 960 960\">\n",
              "    <path d=\"M120-120v-720h720v720H120Zm60-500h600v-160H180v160Zm220 220h160v-160H400v160Zm0 220h160v-160H400v160ZM180-400h160v-160H180v160Zm440 0h160v-160H620v160ZM180-180h160v-160H180v160Zm440 0h160v-160H620v160Z\"/>\n",
              "  </svg>\n",
              "    </button>\n",
              "\n",
              "  <style>\n",
              "    .colab-df-container {\n",
              "      display:flex;\n",
              "      gap: 12px;\n",
              "    }\n",
              "\n",
              "    .colab-df-convert {\n",
              "      background-color: #E8F0FE;\n",
              "      border: none;\n",
              "      border-radius: 50%;\n",
              "      cursor: pointer;\n",
              "      display: none;\n",
              "      fill: #1967D2;\n",
              "      height: 32px;\n",
              "      padding: 0 0 0 0;\n",
              "      width: 32px;\n",
              "    }\n",
              "\n",
              "    .colab-df-convert:hover {\n",
              "      background-color: #E2EBFA;\n",
              "      box-shadow: 0px 1px 2px rgba(60, 64, 67, 0.3), 0px 1px 3px 1px rgba(60, 64, 67, 0.15);\n",
              "      fill: #174EA6;\n",
              "    }\n",
              "\n",
              "    .colab-df-buttons div {\n",
              "      margin-bottom: 4px;\n",
              "    }\n",
              "\n",
              "    [theme=dark] .colab-df-convert {\n",
              "      background-color: #3B4455;\n",
              "      fill: #D2E3FC;\n",
              "    }\n",
              "\n",
              "    [theme=dark] .colab-df-convert:hover {\n",
              "      background-color: #434B5C;\n",
              "      box-shadow: 0px 1px 3px 1px rgba(0, 0, 0, 0.15);\n",
              "      filter: drop-shadow(0px 1px 2px rgba(0, 0, 0, 0.3));\n",
              "      fill: #FFFFFF;\n",
              "    }\n",
              "  </style>\n",
              "\n",
              "    <script>\n",
              "      const buttonEl =\n",
              "        document.querySelector('#df-27c32606-9c0e-471d-9a23-f6a9a5e0fa57 button.colab-df-convert');\n",
              "      buttonEl.style.display =\n",
              "        google.colab.kernel.accessAllowed ? 'block' : 'none';\n",
              "\n",
              "      async function convertToInteractive(key) {\n",
              "        const element = document.querySelector('#df-27c32606-9c0e-471d-9a23-f6a9a5e0fa57');\n",
              "        const dataTable =\n",
              "          await google.colab.kernel.invokeFunction('convertToInteractive',\n",
              "                                                    [key], {});\n",
              "        if (!dataTable) return;\n",
              "\n",
              "        const docLinkHtml = 'Like what you see? Visit the ' +\n",
              "          '<a target=\"_blank\" href=https://colab.research.google.com/notebooks/data_table.ipynb>data table notebook</a>'\n",
              "          + ' to learn more about interactive tables.';\n",
              "        element.innerHTML = '';\n",
              "        dataTable['output_type'] = 'display_data';\n",
              "        await google.colab.output.renderOutput(dataTable, element);\n",
              "        const docLink = document.createElement('div');\n",
              "        docLink.innerHTML = docLinkHtml;\n",
              "        element.appendChild(docLink);\n",
              "      }\n",
              "    </script>\n",
              "  </div>\n",
              "\n",
              "\n",
              "<div id=\"df-61406a06-3dfb-4886-bdac-977a4a63eb6f\">\n",
              "  <button class=\"colab-df-quickchart\" onclick=\"quickchart('df-61406a06-3dfb-4886-bdac-977a4a63eb6f')\"\n",
              "            title=\"Suggest charts\"\n",
              "            style=\"display:none;\">\n",
              "\n",
              "<svg xmlns=\"http://www.w3.org/2000/svg\" height=\"24px\"viewBox=\"0 0 24 24\"\n",
              "     width=\"24px\">\n",
              "    <g>\n",
              "        <path d=\"M19 3H5c-1.1 0-2 .9-2 2v14c0 1.1.9 2 2 2h14c1.1 0 2-.9 2-2V5c0-1.1-.9-2-2-2zM9 17H7v-7h2v7zm4 0h-2V7h2v10zm4 0h-2v-4h2v4z\"/>\n",
              "    </g>\n",
              "</svg>\n",
              "  </button>\n",
              "\n",
              "<style>\n",
              "  .colab-df-quickchart {\n",
              "      --bg-color: #E8F0FE;\n",
              "      --fill-color: #1967D2;\n",
              "      --hover-bg-color: #E2EBFA;\n",
              "      --hover-fill-color: #174EA6;\n",
              "      --disabled-fill-color: #AAA;\n",
              "      --disabled-bg-color: #DDD;\n",
              "  }\n",
              "\n",
              "  [theme=dark] .colab-df-quickchart {\n",
              "      --bg-color: #3B4455;\n",
              "      --fill-color: #D2E3FC;\n",
              "      --hover-bg-color: #434B5C;\n",
              "      --hover-fill-color: #FFFFFF;\n",
              "      --disabled-bg-color: #3B4455;\n",
              "      --disabled-fill-color: #666;\n",
              "  }\n",
              "\n",
              "  .colab-df-quickchart {\n",
              "    background-color: var(--bg-color);\n",
              "    border: none;\n",
              "    border-radius: 50%;\n",
              "    cursor: pointer;\n",
              "    display: none;\n",
              "    fill: var(--fill-color);\n",
              "    height: 32px;\n",
              "    padding: 0;\n",
              "    width: 32px;\n",
              "  }\n",
              "\n",
              "  .colab-df-quickchart:hover {\n",
              "    background-color: var(--hover-bg-color);\n",
              "    box-shadow: 0 1px 2px rgba(60, 64, 67, 0.3), 0 1px 3px 1px rgba(60, 64, 67, 0.15);\n",
              "    fill: var(--button-hover-fill-color);\n",
              "  }\n",
              "\n",
              "  .colab-df-quickchart-complete:disabled,\n",
              "  .colab-df-quickchart-complete:disabled:hover {\n",
              "    background-color: var(--disabled-bg-color);\n",
              "    fill: var(--disabled-fill-color);\n",
              "    box-shadow: none;\n",
              "  }\n",
              "\n",
              "  .colab-df-spinner {\n",
              "    border: 2px solid var(--fill-color);\n",
              "    border-color: transparent;\n",
              "    border-bottom-color: var(--fill-color);\n",
              "    animation:\n",
              "      spin 1s steps(1) infinite;\n",
              "  }\n",
              "\n",
              "  @keyframes spin {\n",
              "    0% {\n",
              "      border-color: transparent;\n",
              "      border-bottom-color: var(--fill-color);\n",
              "      border-left-color: var(--fill-color);\n",
              "    }\n",
              "    20% {\n",
              "      border-color: transparent;\n",
              "      border-left-color: var(--fill-color);\n",
              "      border-top-color: var(--fill-color);\n",
              "    }\n",
              "    30% {\n",
              "      border-color: transparent;\n",
              "      border-left-color: var(--fill-color);\n",
              "      border-top-color: var(--fill-color);\n",
              "      border-right-color: var(--fill-color);\n",
              "    }\n",
              "    40% {\n",
              "      border-color: transparent;\n",
              "      border-right-color: var(--fill-color);\n",
              "      border-top-color: var(--fill-color);\n",
              "    }\n",
              "    60% {\n",
              "      border-color: transparent;\n",
              "      border-right-color: var(--fill-color);\n",
              "    }\n",
              "    80% {\n",
              "      border-color: transparent;\n",
              "      border-right-color: var(--fill-color);\n",
              "      border-bottom-color: var(--fill-color);\n",
              "    }\n",
              "    90% {\n",
              "      border-color: transparent;\n",
              "      border-bottom-color: var(--fill-color);\n",
              "    }\n",
              "  }\n",
              "</style>\n",
              "\n",
              "  <script>\n",
              "    async function quickchart(key) {\n",
              "      const quickchartButtonEl =\n",
              "        document.querySelector('#' + key + ' button');\n",
              "      quickchartButtonEl.disabled = true;  // To prevent multiple clicks.\n",
              "      quickchartButtonEl.classList.add('colab-df-spinner');\n",
              "      try {\n",
              "        const charts = await google.colab.kernel.invokeFunction(\n",
              "            'suggestCharts', [key], {});\n",
              "      } catch (error) {\n",
              "        console.error('Error during call to suggestCharts:', error);\n",
              "      }\n",
              "      quickchartButtonEl.classList.remove('colab-df-spinner');\n",
              "      quickchartButtonEl.classList.add('colab-df-quickchart-complete');\n",
              "    }\n",
              "    (() => {\n",
              "      let quickchartButtonEl =\n",
              "        document.querySelector('#df-61406a06-3dfb-4886-bdac-977a4a63eb6f button');\n",
              "      quickchartButtonEl.style.display =\n",
              "        google.colab.kernel.accessAllowed ? 'block' : 'none';\n",
              "    })();\n",
              "  </script>\n",
              "</div>\n",
              "    </div>\n",
              "  </div>\n"
            ]
          },
          "metadata": {},
          "execution_count": 13
        }
      ]
    },
    {
      "cell_type": "code",
      "execution_count": 14,
      "metadata": {
        "id": "iqRLghCRSo65"
      },
      "outputs": [],
      "source": [
        "import numpy as np\n",
        "import pandas as pd\n",
        "import re\n",
        "import nltk\n",
        "import spacy\n",
        "import string\n",
        "from nltk.corpus import stopwords\n",
        "from nltk.stem import WordNetLemmatizer\n",
        "from sklearn.preprocessing import LabelEncoder\n",
        "from sklearn.model_selection import train_test_split"
      ]
    },
    {
      "cell_type": "markdown",
      "source": [
        "### Lower Casing, remove punctuations\n",
        "\n"
      ],
      "metadata": {
        "id": "xKqNujtQfopm"
      }
    },
    {
      "cell_type": "code",
      "source": [
        "#lower case\n",
        "df[\"content\"] = df[\"content\"].str.lower()\n",
        "\n",
        "#remove punctuation\n",
        "df['content'] = df['content'].str.replace('[^\\w\\s]','')"
      ],
      "metadata": {
        "id": "37dGn05ffsI3",
        "colab": {
          "base_uri": "https://localhost:8080/"
        },
        "outputId": "93e50135-4889-4782-c1c7-acf9d00071e6"
      },
      "execution_count": 15,
      "outputs": [
        {
          "output_type": "stream",
          "name": "stderr",
          "text": [
            "<ipython-input-15-daf0235d722b>:5: FutureWarning: The default value of regex will change from True to False in a future version.\n",
            "  df['content'] = df['content'].str.replace('[^\\w\\s]','')\n"
          ]
        }
      ]
    },
    {
      "cell_type": "markdown",
      "source": [
        "### Remove stop words"
      ],
      "metadata": {
        "id": "8NiBUZQHqVYe"
      }
    },
    {
      "cell_type": "code",
      "source": [
        "nltk.download('stopwords')\n",
        "\", \".join(stopwords.words('english'))\n",
        "\n",
        "STOPWORDS = set(stopwords.words('english'))\n",
        "def remove_stopwords(text):\n",
        "    return \" \".join([word for word in str(text).split() if word not in STOPWORDS])\n",
        "\n",
        "df[\"content\"] = df[\"content\"].apply(lambda text: remove_stopwords(text))\n"
      ],
      "metadata": {
        "colab": {
          "base_uri": "https://localhost:8080/"
        },
        "id": "_1FH7i1rqOT7",
        "outputId": "916f8a43-a0b4-4b93-a935-264ce03d995d"
      },
      "execution_count": 16,
      "outputs": [
        {
          "output_type": "stream",
          "name": "stderr",
          "text": [
            "[nltk_data] Downloading package stopwords to /root/nltk_data...\n",
            "[nltk_data]   Package stopwords is already up-to-date!\n"
          ]
        }
      ]
    },
    {
      "cell_type": "markdown",
      "source": [
        "### Remove emojis"
      ],
      "metadata": {
        "id": "GuRfLPGGLMAu"
      }
    },
    {
      "cell_type": "code",
      "source": [
        "def remove_emoji(string):\n",
        "    emoji_pattern = re.compile(\"[\"\n",
        "                           u\"\\U0001F600-\\U0001F64F\"  # emoticons\n",
        "                           u\"\\U0001F300-\\U0001F5FF\"  # symbols & pictographs\n",
        "                           u\"\\U0001F680-\\U0001F6FF\"  # transport & map symbols\n",
        "                           u\"\\U0001F1E0-\\U0001F1FF\"  # flags (iOS)\n",
        "                           u\"\\U00002702-\\U000027B0\"\n",
        "                           u\"\\U000024C2-\\U0001F251\"\n",
        "                           \"]+\", flags=re.UNICODE)\n",
        "    return emoji_pattern.sub(r'', string)\n",
        "\n",
        "df['content'] = df['content'].apply(remove_emoji)"
      ],
      "metadata": {
        "id": "nBCK8_w7XMGO"
      },
      "execution_count": 17,
      "outputs": []
    },
    {
      "cell_type": "markdown",
      "source": [
        "### Lemmatization"
      ],
      "metadata": {
        "id": "7xnFmE6dXDfj"
      }
    },
    {
      "cell_type": "code",
      "source": [
        "nltk.download('wordnet')\n",
        "lemmatizer = WordNetLemmatizer()\n",
        "def lemmatize_words(text):\n",
        "    return \" \".join([lemmatizer.lemmatize(word) for word in text.split()])\n",
        "\n",
        "df['content'] = df['content'].apply(lambda text: lemmatize_words(text))"
      ],
      "metadata": {
        "colab": {
          "base_uri": "https://localhost:8080/"
        },
        "id": "IGXpaD9lXDKL",
        "outputId": "020b4b1c-bc3c-4fa6-ff5c-a3c58a276085"
      },
      "execution_count": 18,
      "outputs": [
        {
          "output_type": "stream",
          "name": "stderr",
          "text": [
            "[nltk_data] Downloading package wordnet to /root/nltk_data...\n",
            "[nltk_data]   Package wordnet is already up-to-date!\n"
          ]
        }
      ]
    },
    {
      "cell_type": "code",
      "source": [
        "df.to_csv('cleanedreview.csv', index=False)"
      ],
      "metadata": {
        "id": "ppI7YvXuFU-K"
      },
      "execution_count": 19,
      "outputs": []
    },
    {
      "cell_type": "code",
      "source": [
        "# Load the CSV file into a DataFrame\n",
        "df = pd.read_csv('cleanedreview.csv')\n",
        "\n",
        "# Use the sample method to randomly shuffle the rows\n",
        "df_shuffled = df.sample(frac=1, random_state=42)\n",
        "\n",
        "# Calculate the index to split the DataFrame\n",
        "split_index = int(0.75 * len(df_shuffled))\n",
        "\n",
        "# Split the DataFrame into two parts\n",
        "df_train = df_shuffled[:split_index]\n",
        "df_test = df_shuffled[split_index:]\n",
        "\n",
        "# Save the two DataFrames into separate CSV files\n",
        "df_train.to_csv('train.csv', index=False)\n",
        "df_test.to_csv('test.csv', index=False)"
      ],
      "metadata": {
        "id": "C0AqGhZFmx9l"
      },
      "execution_count": 20,
      "outputs": []
    },
    {
      "cell_type": "markdown",
      "source": [
        "### Label Encoding"
      ],
      "metadata": {
        "id": "XeMzNxC8GFRv"
      }
    },
    {
      "cell_type": "code",
      "source": [
        "train_data = pd.read_csv('train.csv')\n",
        "test_data = pd.read_csv('test.csv')\n",
        "\n",
        "train_data = train_data.dropna()\n",
        "test_data = test_data.dropna()"
      ],
      "metadata": {
        "id": "yvKtbTTimaju"
      },
      "execution_count": 21,
      "outputs": []
    },
    {
      "cell_type": "code",
      "source": [
        "X_train = train_data.content\n",
        "Y_train = train_data.score"
      ],
      "metadata": {
        "id": "NjvE3iwAmJBL"
      },
      "execution_count": 22,
      "outputs": []
    },
    {
      "cell_type": "code",
      "source": [
        "encoder = LabelEncoder()\n",
        "Y_train = encoder.fit_transform(Y_train)\n",
        "Y_train = pd.DataFrame(Y_train,columns=['score'])\n",
        "Y_train.head()"
      ],
      "metadata": {
        "colab": {
          "base_uri": "https://localhost:8080/",
          "height": 206
        },
        "id": "TriuR6zcnYdn",
        "outputId": "2cf522d9-f229-4ae8-9c98-e6b5ca68464f"
      },
      "execution_count": 23,
      "outputs": [
        {
          "output_type": "execute_result",
          "data": {
            "text/plain": [
              "   score\n",
              "0      1\n",
              "1      2\n",
              "2      0\n",
              "3      1\n",
              "4      1"
            ],
            "text/html": [
              "\n",
              "  <div id=\"df-1a741a8c-2f81-4827-9e52-57af81ddc0b3\" class=\"colab-df-container\">\n",
              "    <div>\n",
              "<style scoped>\n",
              "    .dataframe tbody tr th:only-of-type {\n",
              "        vertical-align: middle;\n",
              "    }\n",
              "\n",
              "    .dataframe tbody tr th {\n",
              "        vertical-align: top;\n",
              "    }\n",
              "\n",
              "    .dataframe thead th {\n",
              "        text-align: right;\n",
              "    }\n",
              "</style>\n",
              "<table border=\"1\" class=\"dataframe\">\n",
              "  <thead>\n",
              "    <tr style=\"text-align: right;\">\n",
              "      <th></th>\n",
              "      <th>score</th>\n",
              "    </tr>\n",
              "  </thead>\n",
              "  <tbody>\n",
              "    <tr>\n",
              "      <th>0</th>\n",
              "      <td>1</td>\n",
              "    </tr>\n",
              "    <tr>\n",
              "      <th>1</th>\n",
              "      <td>2</td>\n",
              "    </tr>\n",
              "    <tr>\n",
              "      <th>2</th>\n",
              "      <td>0</td>\n",
              "    </tr>\n",
              "    <tr>\n",
              "      <th>3</th>\n",
              "      <td>1</td>\n",
              "    </tr>\n",
              "    <tr>\n",
              "      <th>4</th>\n",
              "      <td>1</td>\n",
              "    </tr>\n",
              "  </tbody>\n",
              "</table>\n",
              "</div>\n",
              "    <div class=\"colab-df-buttons\">\n",
              "\n",
              "  <div class=\"colab-df-container\">\n",
              "    <button class=\"colab-df-convert\" onclick=\"convertToInteractive('df-1a741a8c-2f81-4827-9e52-57af81ddc0b3')\"\n",
              "            title=\"Convert this dataframe to an interactive table.\"\n",
              "            style=\"display:none;\">\n",
              "\n",
              "  <svg xmlns=\"http://www.w3.org/2000/svg\" height=\"24px\" viewBox=\"0 -960 960 960\">\n",
              "    <path d=\"M120-120v-720h720v720H120Zm60-500h600v-160H180v160Zm220 220h160v-160H400v160Zm0 220h160v-160H400v160ZM180-400h160v-160H180v160Zm440 0h160v-160H620v160ZM180-180h160v-160H180v160Zm440 0h160v-160H620v160Z\"/>\n",
              "  </svg>\n",
              "    </button>\n",
              "\n",
              "  <style>\n",
              "    .colab-df-container {\n",
              "      display:flex;\n",
              "      gap: 12px;\n",
              "    }\n",
              "\n",
              "    .colab-df-convert {\n",
              "      background-color: #E8F0FE;\n",
              "      border: none;\n",
              "      border-radius: 50%;\n",
              "      cursor: pointer;\n",
              "      display: none;\n",
              "      fill: #1967D2;\n",
              "      height: 32px;\n",
              "      padding: 0 0 0 0;\n",
              "      width: 32px;\n",
              "    }\n",
              "\n",
              "    .colab-df-convert:hover {\n",
              "      background-color: #E2EBFA;\n",
              "      box-shadow: 0px 1px 2px rgba(60, 64, 67, 0.3), 0px 1px 3px 1px rgba(60, 64, 67, 0.15);\n",
              "      fill: #174EA6;\n",
              "    }\n",
              "\n",
              "    .colab-df-buttons div {\n",
              "      margin-bottom: 4px;\n",
              "    }\n",
              "\n",
              "    [theme=dark] .colab-df-convert {\n",
              "      background-color: #3B4455;\n",
              "      fill: #D2E3FC;\n",
              "    }\n",
              "\n",
              "    [theme=dark] .colab-df-convert:hover {\n",
              "      background-color: #434B5C;\n",
              "      box-shadow: 0px 1px 3px 1px rgba(0, 0, 0, 0.15);\n",
              "      filter: drop-shadow(0px 1px 2px rgba(0, 0, 0, 0.3));\n",
              "      fill: #FFFFFF;\n",
              "    }\n",
              "  </style>\n",
              "\n",
              "    <script>\n",
              "      const buttonEl =\n",
              "        document.querySelector('#df-1a741a8c-2f81-4827-9e52-57af81ddc0b3 button.colab-df-convert');\n",
              "      buttonEl.style.display =\n",
              "        google.colab.kernel.accessAllowed ? 'block' : 'none';\n",
              "\n",
              "      async function convertToInteractive(key) {\n",
              "        const element = document.querySelector('#df-1a741a8c-2f81-4827-9e52-57af81ddc0b3');\n",
              "        const dataTable =\n",
              "          await google.colab.kernel.invokeFunction('convertToInteractive',\n",
              "                                                    [key], {});\n",
              "        if (!dataTable) return;\n",
              "\n",
              "        const docLinkHtml = 'Like what you see? Visit the ' +\n",
              "          '<a target=\"_blank\" href=https://colab.research.google.com/notebooks/data_table.ipynb>data table notebook</a>'\n",
              "          + ' to learn more about interactive tables.';\n",
              "        element.innerHTML = '';\n",
              "        dataTable['output_type'] = 'display_data';\n",
              "        await google.colab.output.renderOutput(dataTable, element);\n",
              "        const docLink = document.createElement('div');\n",
              "        docLink.innerHTML = docLinkHtml;\n",
              "        element.appendChild(docLink);\n",
              "      }\n",
              "    </script>\n",
              "  </div>\n",
              "\n",
              "\n",
              "<div id=\"df-cae164ad-a479-4cf7-9320-8ee8d36de412\">\n",
              "  <button class=\"colab-df-quickchart\" onclick=\"quickchart('df-cae164ad-a479-4cf7-9320-8ee8d36de412')\"\n",
              "            title=\"Suggest charts\"\n",
              "            style=\"display:none;\">\n",
              "\n",
              "<svg xmlns=\"http://www.w3.org/2000/svg\" height=\"24px\"viewBox=\"0 0 24 24\"\n",
              "     width=\"24px\">\n",
              "    <g>\n",
              "        <path d=\"M19 3H5c-1.1 0-2 .9-2 2v14c0 1.1.9 2 2 2h14c1.1 0 2-.9 2-2V5c0-1.1-.9-2-2-2zM9 17H7v-7h2v7zm4 0h-2V7h2v10zm4 0h-2v-4h2v4z\"/>\n",
              "    </g>\n",
              "</svg>\n",
              "  </button>\n",
              "\n",
              "<style>\n",
              "  .colab-df-quickchart {\n",
              "      --bg-color: #E8F0FE;\n",
              "      --fill-color: #1967D2;\n",
              "      --hover-bg-color: #E2EBFA;\n",
              "      --hover-fill-color: #174EA6;\n",
              "      --disabled-fill-color: #AAA;\n",
              "      --disabled-bg-color: #DDD;\n",
              "  }\n",
              "\n",
              "  [theme=dark] .colab-df-quickchart {\n",
              "      --bg-color: #3B4455;\n",
              "      --fill-color: #D2E3FC;\n",
              "      --hover-bg-color: #434B5C;\n",
              "      --hover-fill-color: #FFFFFF;\n",
              "      --disabled-bg-color: #3B4455;\n",
              "      --disabled-fill-color: #666;\n",
              "  }\n",
              "\n",
              "  .colab-df-quickchart {\n",
              "    background-color: var(--bg-color);\n",
              "    border: none;\n",
              "    border-radius: 50%;\n",
              "    cursor: pointer;\n",
              "    display: none;\n",
              "    fill: var(--fill-color);\n",
              "    height: 32px;\n",
              "    padding: 0;\n",
              "    width: 32px;\n",
              "  }\n",
              "\n",
              "  .colab-df-quickchart:hover {\n",
              "    background-color: var(--hover-bg-color);\n",
              "    box-shadow: 0 1px 2px rgba(60, 64, 67, 0.3), 0 1px 3px 1px rgba(60, 64, 67, 0.15);\n",
              "    fill: var(--button-hover-fill-color);\n",
              "  }\n",
              "\n",
              "  .colab-df-quickchart-complete:disabled,\n",
              "  .colab-df-quickchart-complete:disabled:hover {\n",
              "    background-color: var(--disabled-bg-color);\n",
              "    fill: var(--disabled-fill-color);\n",
              "    box-shadow: none;\n",
              "  }\n",
              "\n",
              "  .colab-df-spinner {\n",
              "    border: 2px solid var(--fill-color);\n",
              "    border-color: transparent;\n",
              "    border-bottom-color: var(--fill-color);\n",
              "    animation:\n",
              "      spin 1s steps(1) infinite;\n",
              "  }\n",
              "\n",
              "  @keyframes spin {\n",
              "    0% {\n",
              "      border-color: transparent;\n",
              "      border-bottom-color: var(--fill-color);\n",
              "      border-left-color: var(--fill-color);\n",
              "    }\n",
              "    20% {\n",
              "      border-color: transparent;\n",
              "      border-left-color: var(--fill-color);\n",
              "      border-top-color: var(--fill-color);\n",
              "    }\n",
              "    30% {\n",
              "      border-color: transparent;\n",
              "      border-left-color: var(--fill-color);\n",
              "      border-top-color: var(--fill-color);\n",
              "      border-right-color: var(--fill-color);\n",
              "    }\n",
              "    40% {\n",
              "      border-color: transparent;\n",
              "      border-right-color: var(--fill-color);\n",
              "      border-top-color: var(--fill-color);\n",
              "    }\n",
              "    60% {\n",
              "      border-color: transparent;\n",
              "      border-right-color: var(--fill-color);\n",
              "    }\n",
              "    80% {\n",
              "      border-color: transparent;\n",
              "      border-right-color: var(--fill-color);\n",
              "      border-bottom-color: var(--fill-color);\n",
              "    }\n",
              "    90% {\n",
              "      border-color: transparent;\n",
              "      border-bottom-color: var(--fill-color);\n",
              "    }\n",
              "  }\n",
              "</style>\n",
              "\n",
              "  <script>\n",
              "    async function quickchart(key) {\n",
              "      const quickchartButtonEl =\n",
              "        document.querySelector('#' + key + ' button');\n",
              "      quickchartButtonEl.disabled = true;  // To prevent multiple clicks.\n",
              "      quickchartButtonEl.classList.add('colab-df-spinner');\n",
              "      try {\n",
              "        const charts = await google.colab.kernel.invokeFunction(\n",
              "            'suggestCharts', [key], {});\n",
              "      } catch (error) {\n",
              "        console.error('Error during call to suggestCharts:', error);\n",
              "      }\n",
              "      quickchartButtonEl.classList.remove('colab-df-spinner');\n",
              "      quickchartButtonEl.classList.add('colab-df-quickchart-complete');\n",
              "    }\n",
              "    (() => {\n",
              "      let quickchartButtonEl =\n",
              "        document.querySelector('#df-cae164ad-a479-4cf7-9320-8ee8d36de412 button');\n",
              "      quickchartButtonEl.style.display =\n",
              "        google.colab.kernel.accessAllowed ? 'block' : 'none';\n",
              "    })();\n",
              "  </script>\n",
              "</div>\n",
              "    </div>\n",
              "  </div>\n"
            ]
          },
          "metadata": {},
          "execution_count": 23
        }
      ]
    },
    {
      "cell_type": "code",
      "source": [
        "test_data.head()"
      ],
      "metadata": {
        "colab": {
          "base_uri": "https://localhost:8080/",
          "height": 206
        },
        "id": "1Ibp8yB8ytzn",
        "outputId": "b629b6d9-555d-428d-d973-ffcaf7db0da1"
      },
      "execution_count": 24,
      "outputs": [
        {
          "output_type": "execute_result",
          "data": {
            "text/plain": [
              "                                             content  score\n",
              "0  cool game kinda difficult recently get episode...      3\n",
              "1  left positive review chromebook reastarting ev...      1\n",
              "2  fun first couple day played til kept crashing ...      3\n",
              "3  game fun got boring unstalled game stayed syst...      3\n",
              "4          finally yostar decent ad yt show gameplay      5"
            ],
            "text/html": [
              "\n",
              "  <div id=\"df-a252d525-2f1c-4bfb-9e71-3de711a5c078\" class=\"colab-df-container\">\n",
              "    <div>\n",
              "<style scoped>\n",
              "    .dataframe tbody tr th:only-of-type {\n",
              "        vertical-align: middle;\n",
              "    }\n",
              "\n",
              "    .dataframe tbody tr th {\n",
              "        vertical-align: top;\n",
              "    }\n",
              "\n",
              "    .dataframe thead th {\n",
              "        text-align: right;\n",
              "    }\n",
              "</style>\n",
              "<table border=\"1\" class=\"dataframe\">\n",
              "  <thead>\n",
              "    <tr style=\"text-align: right;\">\n",
              "      <th></th>\n",
              "      <th>content</th>\n",
              "      <th>score</th>\n",
              "    </tr>\n",
              "  </thead>\n",
              "  <tbody>\n",
              "    <tr>\n",
              "      <th>0</th>\n",
              "      <td>cool game kinda difficult recently get episode...</td>\n",
              "      <td>3</td>\n",
              "    </tr>\n",
              "    <tr>\n",
              "      <th>1</th>\n",
              "      <td>left positive review chromebook reastarting ev...</td>\n",
              "      <td>1</td>\n",
              "    </tr>\n",
              "    <tr>\n",
              "      <th>2</th>\n",
              "      <td>fun first couple day played til kept crashing ...</td>\n",
              "      <td>3</td>\n",
              "    </tr>\n",
              "    <tr>\n",
              "      <th>3</th>\n",
              "      <td>game fun got boring unstalled game stayed syst...</td>\n",
              "      <td>3</td>\n",
              "    </tr>\n",
              "    <tr>\n",
              "      <th>4</th>\n",
              "      <td>finally yostar decent ad yt show gameplay</td>\n",
              "      <td>5</td>\n",
              "    </tr>\n",
              "  </tbody>\n",
              "</table>\n",
              "</div>\n",
              "    <div class=\"colab-df-buttons\">\n",
              "\n",
              "  <div class=\"colab-df-container\">\n",
              "    <button class=\"colab-df-convert\" onclick=\"convertToInteractive('df-a252d525-2f1c-4bfb-9e71-3de711a5c078')\"\n",
              "            title=\"Convert this dataframe to an interactive table.\"\n",
              "            style=\"display:none;\">\n",
              "\n",
              "  <svg xmlns=\"http://www.w3.org/2000/svg\" height=\"24px\" viewBox=\"0 -960 960 960\">\n",
              "    <path d=\"M120-120v-720h720v720H120Zm60-500h600v-160H180v160Zm220 220h160v-160H400v160Zm0 220h160v-160H400v160ZM180-400h160v-160H180v160Zm440 0h160v-160H620v160ZM180-180h160v-160H180v160Zm440 0h160v-160H620v160Z\"/>\n",
              "  </svg>\n",
              "    </button>\n",
              "\n",
              "  <style>\n",
              "    .colab-df-container {\n",
              "      display:flex;\n",
              "      gap: 12px;\n",
              "    }\n",
              "\n",
              "    .colab-df-convert {\n",
              "      background-color: #E8F0FE;\n",
              "      border: none;\n",
              "      border-radius: 50%;\n",
              "      cursor: pointer;\n",
              "      display: none;\n",
              "      fill: #1967D2;\n",
              "      height: 32px;\n",
              "      padding: 0 0 0 0;\n",
              "      width: 32px;\n",
              "    }\n",
              "\n",
              "    .colab-df-convert:hover {\n",
              "      background-color: #E2EBFA;\n",
              "      box-shadow: 0px 1px 2px rgba(60, 64, 67, 0.3), 0px 1px 3px 1px rgba(60, 64, 67, 0.15);\n",
              "      fill: #174EA6;\n",
              "    }\n",
              "\n",
              "    .colab-df-buttons div {\n",
              "      margin-bottom: 4px;\n",
              "    }\n",
              "\n",
              "    [theme=dark] .colab-df-convert {\n",
              "      background-color: #3B4455;\n",
              "      fill: #D2E3FC;\n",
              "    }\n",
              "\n",
              "    [theme=dark] .colab-df-convert:hover {\n",
              "      background-color: #434B5C;\n",
              "      box-shadow: 0px 1px 3px 1px rgba(0, 0, 0, 0.15);\n",
              "      filter: drop-shadow(0px 1px 2px rgba(0, 0, 0, 0.3));\n",
              "      fill: #FFFFFF;\n",
              "    }\n",
              "  </style>\n",
              "\n",
              "    <script>\n",
              "      const buttonEl =\n",
              "        document.querySelector('#df-a252d525-2f1c-4bfb-9e71-3de711a5c078 button.colab-df-convert');\n",
              "      buttonEl.style.display =\n",
              "        google.colab.kernel.accessAllowed ? 'block' : 'none';\n",
              "\n",
              "      async function convertToInteractive(key) {\n",
              "        const element = document.querySelector('#df-a252d525-2f1c-4bfb-9e71-3de711a5c078');\n",
              "        const dataTable =\n",
              "          await google.colab.kernel.invokeFunction('convertToInteractive',\n",
              "                                                    [key], {});\n",
              "        if (!dataTable) return;\n",
              "\n",
              "        const docLinkHtml = 'Like what you see? Visit the ' +\n",
              "          '<a target=\"_blank\" href=https://colab.research.google.com/notebooks/data_table.ipynb>data table notebook</a>'\n",
              "          + ' to learn more about interactive tables.';\n",
              "        element.innerHTML = '';\n",
              "        dataTable['output_type'] = 'display_data';\n",
              "        await google.colab.output.renderOutput(dataTable, element);\n",
              "        const docLink = document.createElement('div');\n",
              "        docLink.innerHTML = docLinkHtml;\n",
              "        element.appendChild(docLink);\n",
              "      }\n",
              "    </script>\n",
              "  </div>\n",
              "\n",
              "\n",
              "<div id=\"df-72d4cc67-5bf9-4a1e-9414-71429555c485\">\n",
              "  <button class=\"colab-df-quickchart\" onclick=\"quickchart('df-72d4cc67-5bf9-4a1e-9414-71429555c485')\"\n",
              "            title=\"Suggest charts\"\n",
              "            style=\"display:none;\">\n",
              "\n",
              "<svg xmlns=\"http://www.w3.org/2000/svg\" height=\"24px\"viewBox=\"0 0 24 24\"\n",
              "     width=\"24px\">\n",
              "    <g>\n",
              "        <path d=\"M19 3H5c-1.1 0-2 .9-2 2v14c0 1.1.9 2 2 2h14c1.1 0 2-.9 2-2V5c0-1.1-.9-2-2-2zM9 17H7v-7h2v7zm4 0h-2V7h2v10zm4 0h-2v-4h2v4z\"/>\n",
              "    </g>\n",
              "</svg>\n",
              "  </button>\n",
              "\n",
              "<style>\n",
              "  .colab-df-quickchart {\n",
              "      --bg-color: #E8F0FE;\n",
              "      --fill-color: #1967D2;\n",
              "      --hover-bg-color: #E2EBFA;\n",
              "      --hover-fill-color: #174EA6;\n",
              "      --disabled-fill-color: #AAA;\n",
              "      --disabled-bg-color: #DDD;\n",
              "  }\n",
              "\n",
              "  [theme=dark] .colab-df-quickchart {\n",
              "      --bg-color: #3B4455;\n",
              "      --fill-color: #D2E3FC;\n",
              "      --hover-bg-color: #434B5C;\n",
              "      --hover-fill-color: #FFFFFF;\n",
              "      --disabled-bg-color: #3B4455;\n",
              "      --disabled-fill-color: #666;\n",
              "  }\n",
              "\n",
              "  .colab-df-quickchart {\n",
              "    background-color: var(--bg-color);\n",
              "    border: none;\n",
              "    border-radius: 50%;\n",
              "    cursor: pointer;\n",
              "    display: none;\n",
              "    fill: var(--fill-color);\n",
              "    height: 32px;\n",
              "    padding: 0;\n",
              "    width: 32px;\n",
              "  }\n",
              "\n",
              "  .colab-df-quickchart:hover {\n",
              "    background-color: var(--hover-bg-color);\n",
              "    box-shadow: 0 1px 2px rgba(60, 64, 67, 0.3), 0 1px 3px 1px rgba(60, 64, 67, 0.15);\n",
              "    fill: var(--button-hover-fill-color);\n",
              "  }\n",
              "\n",
              "  .colab-df-quickchart-complete:disabled,\n",
              "  .colab-df-quickchart-complete:disabled:hover {\n",
              "    background-color: var(--disabled-bg-color);\n",
              "    fill: var(--disabled-fill-color);\n",
              "    box-shadow: none;\n",
              "  }\n",
              "\n",
              "  .colab-df-spinner {\n",
              "    border: 2px solid var(--fill-color);\n",
              "    border-color: transparent;\n",
              "    border-bottom-color: var(--fill-color);\n",
              "    animation:\n",
              "      spin 1s steps(1) infinite;\n",
              "  }\n",
              "\n",
              "  @keyframes spin {\n",
              "    0% {\n",
              "      border-color: transparent;\n",
              "      border-bottom-color: var(--fill-color);\n",
              "      border-left-color: var(--fill-color);\n",
              "    }\n",
              "    20% {\n",
              "      border-color: transparent;\n",
              "      border-left-color: var(--fill-color);\n",
              "      border-top-color: var(--fill-color);\n",
              "    }\n",
              "    30% {\n",
              "      border-color: transparent;\n",
              "      border-left-color: var(--fill-color);\n",
              "      border-top-color: var(--fill-color);\n",
              "      border-right-color: var(--fill-color);\n",
              "    }\n",
              "    40% {\n",
              "      border-color: transparent;\n",
              "      border-right-color: var(--fill-color);\n",
              "      border-top-color: var(--fill-color);\n",
              "    }\n",
              "    60% {\n",
              "      border-color: transparent;\n",
              "      border-right-color: var(--fill-color);\n",
              "    }\n",
              "    80% {\n",
              "      border-color: transparent;\n",
              "      border-right-color: var(--fill-color);\n",
              "      border-bottom-color: var(--fill-color);\n",
              "    }\n",
              "    90% {\n",
              "      border-color: transparent;\n",
              "      border-bottom-color: var(--fill-color);\n",
              "    }\n",
              "  }\n",
              "</style>\n",
              "\n",
              "  <script>\n",
              "    async function quickchart(key) {\n",
              "      const quickchartButtonEl =\n",
              "        document.querySelector('#' + key + ' button');\n",
              "      quickchartButtonEl.disabled = true;  // To prevent multiple clicks.\n",
              "      quickchartButtonEl.classList.add('colab-df-spinner');\n",
              "      try {\n",
              "        const charts = await google.colab.kernel.invokeFunction(\n",
              "            'suggestCharts', [key], {});\n",
              "      } catch (error) {\n",
              "        console.error('Error during call to suggestCharts:', error);\n",
              "      }\n",
              "      quickchartButtonEl.classList.remove('colab-df-spinner');\n",
              "      quickchartButtonEl.classList.add('colab-df-quickchart-complete');\n",
              "    }\n",
              "    (() => {\n",
              "      let quickchartButtonEl =\n",
              "        document.querySelector('#df-72d4cc67-5bf9-4a1e-9414-71429555c485 button');\n",
              "      quickchartButtonEl.style.display =\n",
              "        google.colab.kernel.accessAllowed ? 'block' : 'none';\n",
              "    })();\n",
              "  </script>\n",
              "</div>\n",
              "    </div>\n",
              "  </div>\n"
            ]
          },
          "metadata": {},
          "execution_count": 24
        }
      ]
    },
    {
      "cell_type": "code",
      "source": [
        "X_test = test_data.content\n",
        "Y_test = test_data.score"
      ],
      "metadata": {
        "id": "xADOM2KynfpH"
      },
      "execution_count": 25,
      "outputs": []
    },
    {
      "cell_type": "code",
      "source": [
        "X_test.head()\n",
        "Y_test.head()"
      ],
      "metadata": {
        "colab": {
          "base_uri": "https://localhost:8080/"
        },
        "id": "GWwGc43VnlIY",
        "outputId": "612ed6fd-1344-485f-cbfa-b9ce3d659a24"
      },
      "execution_count": 26,
      "outputs": [
        {
          "output_type": "execute_result",
          "data": {
            "text/plain": [
              "0    3\n",
              "1    1\n",
              "2    3\n",
              "3    3\n",
              "4    5\n",
              "Name: score, dtype: int64"
            ]
          },
          "metadata": {},
          "execution_count": 26
        }
      ]
    },
    {
      "cell_type": "code",
      "source": [
        "Y_test = encoder.fit_transform(Y_test)\n",
        "Y_test = pd.DataFrame(Y_test,columns=['score'])\n",
        "Y_test.head()"
      ],
      "metadata": {
        "colab": {
          "base_uri": "https://localhost:8080/",
          "height": 206
        },
        "id": "bWmr3MPjpvnw",
        "outputId": "1487e2e3-2c45-4b28-e7ff-485de2f31bca"
      },
      "execution_count": 27,
      "outputs": [
        {
          "output_type": "execute_result",
          "data": {
            "text/plain": [
              "   score\n",
              "0      1\n",
              "1      0\n",
              "2      1\n",
              "3      1\n",
              "4      2"
            ],
            "text/html": [
              "\n",
              "  <div id=\"df-28f546a0-baf0-42d2-a6d3-c248a5ecd0bc\" class=\"colab-df-container\">\n",
              "    <div>\n",
              "<style scoped>\n",
              "    .dataframe tbody tr th:only-of-type {\n",
              "        vertical-align: middle;\n",
              "    }\n",
              "\n",
              "    .dataframe tbody tr th {\n",
              "        vertical-align: top;\n",
              "    }\n",
              "\n",
              "    .dataframe thead th {\n",
              "        text-align: right;\n",
              "    }\n",
              "</style>\n",
              "<table border=\"1\" class=\"dataframe\">\n",
              "  <thead>\n",
              "    <tr style=\"text-align: right;\">\n",
              "      <th></th>\n",
              "      <th>score</th>\n",
              "    </tr>\n",
              "  </thead>\n",
              "  <tbody>\n",
              "    <tr>\n",
              "      <th>0</th>\n",
              "      <td>1</td>\n",
              "    </tr>\n",
              "    <tr>\n",
              "      <th>1</th>\n",
              "      <td>0</td>\n",
              "    </tr>\n",
              "    <tr>\n",
              "      <th>2</th>\n",
              "      <td>1</td>\n",
              "    </tr>\n",
              "    <tr>\n",
              "      <th>3</th>\n",
              "      <td>1</td>\n",
              "    </tr>\n",
              "    <tr>\n",
              "      <th>4</th>\n",
              "      <td>2</td>\n",
              "    </tr>\n",
              "  </tbody>\n",
              "</table>\n",
              "</div>\n",
              "    <div class=\"colab-df-buttons\">\n",
              "\n",
              "  <div class=\"colab-df-container\">\n",
              "    <button class=\"colab-df-convert\" onclick=\"convertToInteractive('df-28f546a0-baf0-42d2-a6d3-c248a5ecd0bc')\"\n",
              "            title=\"Convert this dataframe to an interactive table.\"\n",
              "            style=\"display:none;\">\n",
              "\n",
              "  <svg xmlns=\"http://www.w3.org/2000/svg\" height=\"24px\" viewBox=\"0 -960 960 960\">\n",
              "    <path d=\"M120-120v-720h720v720H120Zm60-500h600v-160H180v160Zm220 220h160v-160H400v160Zm0 220h160v-160H400v160ZM180-400h160v-160H180v160Zm440 0h160v-160H620v160ZM180-180h160v-160H180v160Zm440 0h160v-160H620v160Z\"/>\n",
              "  </svg>\n",
              "    </button>\n",
              "\n",
              "  <style>\n",
              "    .colab-df-container {\n",
              "      display:flex;\n",
              "      gap: 12px;\n",
              "    }\n",
              "\n",
              "    .colab-df-convert {\n",
              "      background-color: #E8F0FE;\n",
              "      border: none;\n",
              "      border-radius: 50%;\n",
              "      cursor: pointer;\n",
              "      display: none;\n",
              "      fill: #1967D2;\n",
              "      height: 32px;\n",
              "      padding: 0 0 0 0;\n",
              "      width: 32px;\n",
              "    }\n",
              "\n",
              "    .colab-df-convert:hover {\n",
              "      background-color: #E2EBFA;\n",
              "      box-shadow: 0px 1px 2px rgba(60, 64, 67, 0.3), 0px 1px 3px 1px rgba(60, 64, 67, 0.15);\n",
              "      fill: #174EA6;\n",
              "    }\n",
              "\n",
              "    .colab-df-buttons div {\n",
              "      margin-bottom: 4px;\n",
              "    }\n",
              "\n",
              "    [theme=dark] .colab-df-convert {\n",
              "      background-color: #3B4455;\n",
              "      fill: #D2E3FC;\n",
              "    }\n",
              "\n",
              "    [theme=dark] .colab-df-convert:hover {\n",
              "      background-color: #434B5C;\n",
              "      box-shadow: 0px 1px 3px 1px rgba(0, 0, 0, 0.15);\n",
              "      filter: drop-shadow(0px 1px 2px rgba(0, 0, 0, 0.3));\n",
              "      fill: #FFFFFF;\n",
              "    }\n",
              "  </style>\n",
              "\n",
              "    <script>\n",
              "      const buttonEl =\n",
              "        document.querySelector('#df-28f546a0-baf0-42d2-a6d3-c248a5ecd0bc button.colab-df-convert');\n",
              "      buttonEl.style.display =\n",
              "        google.colab.kernel.accessAllowed ? 'block' : 'none';\n",
              "\n",
              "      async function convertToInteractive(key) {\n",
              "        const element = document.querySelector('#df-28f546a0-baf0-42d2-a6d3-c248a5ecd0bc');\n",
              "        const dataTable =\n",
              "          await google.colab.kernel.invokeFunction('convertToInteractive',\n",
              "                                                    [key], {});\n",
              "        if (!dataTable) return;\n",
              "\n",
              "        const docLinkHtml = 'Like what you see? Visit the ' +\n",
              "          '<a target=\"_blank\" href=https://colab.research.google.com/notebooks/data_table.ipynb>data table notebook</a>'\n",
              "          + ' to learn more about interactive tables.';\n",
              "        element.innerHTML = '';\n",
              "        dataTable['output_type'] = 'display_data';\n",
              "        await google.colab.output.renderOutput(dataTable, element);\n",
              "        const docLink = document.createElement('div');\n",
              "        docLink.innerHTML = docLinkHtml;\n",
              "        element.appendChild(docLink);\n",
              "      }\n",
              "    </script>\n",
              "  </div>\n",
              "\n",
              "\n",
              "<div id=\"df-eaeb85b5-45ee-4298-b154-1a1e739907f3\">\n",
              "  <button class=\"colab-df-quickchart\" onclick=\"quickchart('df-eaeb85b5-45ee-4298-b154-1a1e739907f3')\"\n",
              "            title=\"Suggest charts\"\n",
              "            style=\"display:none;\">\n",
              "\n",
              "<svg xmlns=\"http://www.w3.org/2000/svg\" height=\"24px\"viewBox=\"0 0 24 24\"\n",
              "     width=\"24px\">\n",
              "    <g>\n",
              "        <path d=\"M19 3H5c-1.1 0-2 .9-2 2v14c0 1.1.9 2 2 2h14c1.1 0 2-.9 2-2V5c0-1.1-.9-2-2-2zM9 17H7v-7h2v7zm4 0h-2V7h2v10zm4 0h-2v-4h2v4z\"/>\n",
              "    </g>\n",
              "</svg>\n",
              "  </button>\n",
              "\n",
              "<style>\n",
              "  .colab-df-quickchart {\n",
              "      --bg-color: #E8F0FE;\n",
              "      --fill-color: #1967D2;\n",
              "      --hover-bg-color: #E2EBFA;\n",
              "      --hover-fill-color: #174EA6;\n",
              "      --disabled-fill-color: #AAA;\n",
              "      --disabled-bg-color: #DDD;\n",
              "  }\n",
              "\n",
              "  [theme=dark] .colab-df-quickchart {\n",
              "      --bg-color: #3B4455;\n",
              "      --fill-color: #D2E3FC;\n",
              "      --hover-bg-color: #434B5C;\n",
              "      --hover-fill-color: #FFFFFF;\n",
              "      --disabled-bg-color: #3B4455;\n",
              "      --disabled-fill-color: #666;\n",
              "  }\n",
              "\n",
              "  .colab-df-quickchart {\n",
              "    background-color: var(--bg-color);\n",
              "    border: none;\n",
              "    border-radius: 50%;\n",
              "    cursor: pointer;\n",
              "    display: none;\n",
              "    fill: var(--fill-color);\n",
              "    height: 32px;\n",
              "    padding: 0;\n",
              "    width: 32px;\n",
              "  }\n",
              "\n",
              "  .colab-df-quickchart:hover {\n",
              "    background-color: var(--hover-bg-color);\n",
              "    box-shadow: 0 1px 2px rgba(60, 64, 67, 0.3), 0 1px 3px 1px rgba(60, 64, 67, 0.15);\n",
              "    fill: var(--button-hover-fill-color);\n",
              "  }\n",
              "\n",
              "  .colab-df-quickchart-complete:disabled,\n",
              "  .colab-df-quickchart-complete:disabled:hover {\n",
              "    background-color: var(--disabled-bg-color);\n",
              "    fill: var(--disabled-fill-color);\n",
              "    box-shadow: none;\n",
              "  }\n",
              "\n",
              "  .colab-df-spinner {\n",
              "    border: 2px solid var(--fill-color);\n",
              "    border-color: transparent;\n",
              "    border-bottom-color: var(--fill-color);\n",
              "    animation:\n",
              "      spin 1s steps(1) infinite;\n",
              "  }\n",
              "\n",
              "  @keyframes spin {\n",
              "    0% {\n",
              "      border-color: transparent;\n",
              "      border-bottom-color: var(--fill-color);\n",
              "      border-left-color: var(--fill-color);\n",
              "    }\n",
              "    20% {\n",
              "      border-color: transparent;\n",
              "      border-left-color: var(--fill-color);\n",
              "      border-top-color: var(--fill-color);\n",
              "    }\n",
              "    30% {\n",
              "      border-color: transparent;\n",
              "      border-left-color: var(--fill-color);\n",
              "      border-top-color: var(--fill-color);\n",
              "      border-right-color: var(--fill-color);\n",
              "    }\n",
              "    40% {\n",
              "      border-color: transparent;\n",
              "      border-right-color: var(--fill-color);\n",
              "      border-top-color: var(--fill-color);\n",
              "    }\n",
              "    60% {\n",
              "      border-color: transparent;\n",
              "      border-right-color: var(--fill-color);\n",
              "    }\n",
              "    80% {\n",
              "      border-color: transparent;\n",
              "      border-right-color: var(--fill-color);\n",
              "      border-bottom-color: var(--fill-color);\n",
              "    }\n",
              "    90% {\n",
              "      border-color: transparent;\n",
              "      border-bottom-color: var(--fill-color);\n",
              "    }\n",
              "  }\n",
              "</style>\n",
              "\n",
              "  <script>\n",
              "    async function quickchart(key) {\n",
              "      const quickchartButtonEl =\n",
              "        document.querySelector('#' + key + ' button');\n",
              "      quickchartButtonEl.disabled = true;  // To prevent multiple clicks.\n",
              "      quickchartButtonEl.classList.add('colab-df-spinner');\n",
              "      try {\n",
              "        const charts = await google.colab.kernel.invokeFunction(\n",
              "            'suggestCharts', [key], {});\n",
              "      } catch (error) {\n",
              "        console.error('Error during call to suggestCharts:', error);\n",
              "      }\n",
              "      quickchartButtonEl.classList.remove('colab-df-spinner');\n",
              "      quickchartButtonEl.classList.add('colab-df-quickchart-complete');\n",
              "    }\n",
              "    (() => {\n",
              "      let quickchartButtonEl =\n",
              "        document.querySelector('#df-eaeb85b5-45ee-4298-b154-1a1e739907f3 button');\n",
              "      quickchartButtonEl.style.display =\n",
              "        google.colab.kernel.accessAllowed ? 'block' : 'none';\n",
              "    })();\n",
              "  </script>\n",
              "</div>\n",
              "    </div>\n",
              "  </div>\n"
            ]
          },
          "metadata": {},
          "execution_count": 27
        }
      ]
    },
    {
      "cell_type": "markdown",
      "source": [
        "## Machine Learning Model"
      ],
      "metadata": {
        "id": "nFyNZQuzG7UB"
      }
    },
    {
      "cell_type": "code",
      "source": [
        "from sklearn.feature_extraction.text import CountVectorizer"
      ],
      "metadata": {
        "id": "9zv5JD2TG_li"
      },
      "execution_count": 28,
      "outputs": []
    },
    {
      "cell_type": "code",
      "source": [
        "vectorizer = CountVectorizer(max_features= 1625, min_df = 2, max_df = 0.8)\n",
        "# fit the model for training data\n",
        "X_train_data = vectorizer.fit_transform(X_train)\n",
        "X_train_data.shape"
      ],
      "metadata": {
        "colab": {
          "base_uri": "https://localhost:8080/"
        },
        "id": "0n_c1bVpHDC3",
        "outputId": "2e8cf7ec-fb76-4f1e-907c-e680ab6c1370"
      },
      "execution_count": 29,
      "outputs": [
        {
          "output_type": "execute_result",
          "data": {
            "text/plain": [
              "(6188, 1625)"
            ]
          },
          "metadata": {},
          "execution_count": 29
        }
      ]
    },
    {
      "cell_type": "code",
      "source": [
        "X_test_data = vectorizer.fit_transform(X_test)"
      ],
      "metadata": {
        "id": "_SCSm7cz6JKy"
      },
      "execution_count": 30,
      "outputs": []
    },
    {
      "cell_type": "code",
      "source": [
        "Y_train = encoder.fit_transform(Y_train)\n",
        "Y_train = pd.DataFrame(Y_train,columns=['score'])\n",
        "Y_train.head()"
      ],
      "metadata": {
        "colab": {
          "base_uri": "https://localhost:8080/",
          "height": 261
        },
        "id": "7u__h4lClaQi",
        "outputId": "6e4d6d86-db29-4cbe-ef81-75c872a0109c"
      },
      "execution_count": 31,
      "outputs": [
        {
          "output_type": "stream",
          "name": "stderr",
          "text": [
            "/usr/local/lib/python3.10/dist-packages/sklearn/preprocessing/_label.py:116: DataConversionWarning: A column-vector y was passed when a 1d array was expected. Please change the shape of y to (n_samples, ), for example using ravel().\n",
            "  y = column_or_1d(y, warn=True)\n"
          ]
        },
        {
          "output_type": "execute_result",
          "data": {
            "text/plain": [
              "   score\n",
              "0      1\n",
              "1      2\n",
              "2      0\n",
              "3      1\n",
              "4      1"
            ],
            "text/html": [
              "\n",
              "  <div id=\"df-37f6c78b-725c-4d94-adcc-39b874c3b07e\" class=\"colab-df-container\">\n",
              "    <div>\n",
              "<style scoped>\n",
              "    .dataframe tbody tr th:only-of-type {\n",
              "        vertical-align: middle;\n",
              "    }\n",
              "\n",
              "    .dataframe tbody tr th {\n",
              "        vertical-align: top;\n",
              "    }\n",
              "\n",
              "    .dataframe thead th {\n",
              "        text-align: right;\n",
              "    }\n",
              "</style>\n",
              "<table border=\"1\" class=\"dataframe\">\n",
              "  <thead>\n",
              "    <tr style=\"text-align: right;\">\n",
              "      <th></th>\n",
              "      <th>score</th>\n",
              "    </tr>\n",
              "  </thead>\n",
              "  <tbody>\n",
              "    <tr>\n",
              "      <th>0</th>\n",
              "      <td>1</td>\n",
              "    </tr>\n",
              "    <tr>\n",
              "      <th>1</th>\n",
              "      <td>2</td>\n",
              "    </tr>\n",
              "    <tr>\n",
              "      <th>2</th>\n",
              "      <td>0</td>\n",
              "    </tr>\n",
              "    <tr>\n",
              "      <th>3</th>\n",
              "      <td>1</td>\n",
              "    </tr>\n",
              "    <tr>\n",
              "      <th>4</th>\n",
              "      <td>1</td>\n",
              "    </tr>\n",
              "  </tbody>\n",
              "</table>\n",
              "</div>\n",
              "    <div class=\"colab-df-buttons\">\n",
              "\n",
              "  <div class=\"colab-df-container\">\n",
              "    <button class=\"colab-df-convert\" onclick=\"convertToInteractive('df-37f6c78b-725c-4d94-adcc-39b874c3b07e')\"\n",
              "            title=\"Convert this dataframe to an interactive table.\"\n",
              "            style=\"display:none;\">\n",
              "\n",
              "  <svg xmlns=\"http://www.w3.org/2000/svg\" height=\"24px\" viewBox=\"0 -960 960 960\">\n",
              "    <path d=\"M120-120v-720h720v720H120Zm60-500h600v-160H180v160Zm220 220h160v-160H400v160Zm0 220h160v-160H400v160ZM180-400h160v-160H180v160Zm440 0h160v-160H620v160ZM180-180h160v-160H180v160Zm440 0h160v-160H620v160Z\"/>\n",
              "  </svg>\n",
              "    </button>\n",
              "\n",
              "  <style>\n",
              "    .colab-df-container {\n",
              "      display:flex;\n",
              "      gap: 12px;\n",
              "    }\n",
              "\n",
              "    .colab-df-convert {\n",
              "      background-color: #E8F0FE;\n",
              "      border: none;\n",
              "      border-radius: 50%;\n",
              "      cursor: pointer;\n",
              "      display: none;\n",
              "      fill: #1967D2;\n",
              "      height: 32px;\n",
              "      padding: 0 0 0 0;\n",
              "      width: 32px;\n",
              "    }\n",
              "\n",
              "    .colab-df-convert:hover {\n",
              "      background-color: #E2EBFA;\n",
              "      box-shadow: 0px 1px 2px rgba(60, 64, 67, 0.3), 0px 1px 3px 1px rgba(60, 64, 67, 0.15);\n",
              "      fill: #174EA6;\n",
              "    }\n",
              "\n",
              "    .colab-df-buttons div {\n",
              "      margin-bottom: 4px;\n",
              "    }\n",
              "\n",
              "    [theme=dark] .colab-df-convert {\n",
              "      background-color: #3B4455;\n",
              "      fill: #D2E3FC;\n",
              "    }\n",
              "\n",
              "    [theme=dark] .colab-df-convert:hover {\n",
              "      background-color: #434B5C;\n",
              "      box-shadow: 0px 1px 3px 1px rgba(0, 0, 0, 0.15);\n",
              "      filter: drop-shadow(0px 1px 2px rgba(0, 0, 0, 0.3));\n",
              "      fill: #FFFFFF;\n",
              "    }\n",
              "  </style>\n",
              "\n",
              "    <script>\n",
              "      const buttonEl =\n",
              "        document.querySelector('#df-37f6c78b-725c-4d94-adcc-39b874c3b07e button.colab-df-convert');\n",
              "      buttonEl.style.display =\n",
              "        google.colab.kernel.accessAllowed ? 'block' : 'none';\n",
              "\n",
              "      async function convertToInteractive(key) {\n",
              "        const element = document.querySelector('#df-37f6c78b-725c-4d94-adcc-39b874c3b07e');\n",
              "        const dataTable =\n",
              "          await google.colab.kernel.invokeFunction('convertToInteractive',\n",
              "                                                    [key], {});\n",
              "        if (!dataTable) return;\n",
              "\n",
              "        const docLinkHtml = 'Like what you see? Visit the ' +\n",
              "          '<a target=\"_blank\" href=https://colab.research.google.com/notebooks/data_table.ipynb>data table notebook</a>'\n",
              "          + ' to learn more about interactive tables.';\n",
              "        element.innerHTML = '';\n",
              "        dataTable['output_type'] = 'display_data';\n",
              "        await google.colab.output.renderOutput(dataTable, element);\n",
              "        const docLink = document.createElement('div');\n",
              "        docLink.innerHTML = docLinkHtml;\n",
              "        element.appendChild(docLink);\n",
              "      }\n",
              "    </script>\n",
              "  </div>\n",
              "\n",
              "\n",
              "<div id=\"df-7421ad9e-25f5-4b1b-a458-22dfa7056db3\">\n",
              "  <button class=\"colab-df-quickchart\" onclick=\"quickchart('df-7421ad9e-25f5-4b1b-a458-22dfa7056db3')\"\n",
              "            title=\"Suggest charts\"\n",
              "            style=\"display:none;\">\n",
              "\n",
              "<svg xmlns=\"http://www.w3.org/2000/svg\" height=\"24px\"viewBox=\"0 0 24 24\"\n",
              "     width=\"24px\">\n",
              "    <g>\n",
              "        <path d=\"M19 3H5c-1.1 0-2 .9-2 2v14c0 1.1.9 2 2 2h14c1.1 0 2-.9 2-2V5c0-1.1-.9-2-2-2zM9 17H7v-7h2v7zm4 0h-2V7h2v10zm4 0h-2v-4h2v4z\"/>\n",
              "    </g>\n",
              "</svg>\n",
              "  </button>\n",
              "\n",
              "<style>\n",
              "  .colab-df-quickchart {\n",
              "      --bg-color: #E8F0FE;\n",
              "      --fill-color: #1967D2;\n",
              "      --hover-bg-color: #E2EBFA;\n",
              "      --hover-fill-color: #174EA6;\n",
              "      --disabled-fill-color: #AAA;\n",
              "      --disabled-bg-color: #DDD;\n",
              "  }\n",
              "\n",
              "  [theme=dark] .colab-df-quickchart {\n",
              "      --bg-color: #3B4455;\n",
              "      --fill-color: #D2E3FC;\n",
              "      --hover-bg-color: #434B5C;\n",
              "      --hover-fill-color: #FFFFFF;\n",
              "      --disabled-bg-color: #3B4455;\n",
              "      --disabled-fill-color: #666;\n",
              "  }\n",
              "\n",
              "  .colab-df-quickchart {\n",
              "    background-color: var(--bg-color);\n",
              "    border: none;\n",
              "    border-radius: 50%;\n",
              "    cursor: pointer;\n",
              "    display: none;\n",
              "    fill: var(--fill-color);\n",
              "    height: 32px;\n",
              "    padding: 0;\n",
              "    width: 32px;\n",
              "  }\n",
              "\n",
              "  .colab-df-quickchart:hover {\n",
              "    background-color: var(--hover-bg-color);\n",
              "    box-shadow: 0 1px 2px rgba(60, 64, 67, 0.3), 0 1px 3px 1px rgba(60, 64, 67, 0.15);\n",
              "    fill: var(--button-hover-fill-color);\n",
              "  }\n",
              "\n",
              "  .colab-df-quickchart-complete:disabled,\n",
              "  .colab-df-quickchart-complete:disabled:hover {\n",
              "    background-color: var(--disabled-bg-color);\n",
              "    fill: var(--disabled-fill-color);\n",
              "    box-shadow: none;\n",
              "  }\n",
              "\n",
              "  .colab-df-spinner {\n",
              "    border: 2px solid var(--fill-color);\n",
              "    border-color: transparent;\n",
              "    border-bottom-color: var(--fill-color);\n",
              "    animation:\n",
              "      spin 1s steps(1) infinite;\n",
              "  }\n",
              "\n",
              "  @keyframes spin {\n",
              "    0% {\n",
              "      border-color: transparent;\n",
              "      border-bottom-color: var(--fill-color);\n",
              "      border-left-color: var(--fill-color);\n",
              "    }\n",
              "    20% {\n",
              "      border-color: transparent;\n",
              "      border-left-color: var(--fill-color);\n",
              "      border-top-color: var(--fill-color);\n",
              "    }\n",
              "    30% {\n",
              "      border-color: transparent;\n",
              "      border-left-color: var(--fill-color);\n",
              "      border-top-color: var(--fill-color);\n",
              "      border-right-color: var(--fill-color);\n",
              "    }\n",
              "    40% {\n",
              "      border-color: transparent;\n",
              "      border-right-color: var(--fill-color);\n",
              "      border-top-color: var(--fill-color);\n",
              "    }\n",
              "    60% {\n",
              "      border-color: transparent;\n",
              "      border-right-color: var(--fill-color);\n",
              "    }\n",
              "    80% {\n",
              "      border-color: transparent;\n",
              "      border-right-color: var(--fill-color);\n",
              "      border-bottom-color: var(--fill-color);\n",
              "    }\n",
              "    90% {\n",
              "      border-color: transparent;\n",
              "      border-bottom-color: var(--fill-color);\n",
              "    }\n",
              "  }\n",
              "</style>\n",
              "\n",
              "  <script>\n",
              "    async function quickchart(key) {\n",
              "      const quickchartButtonEl =\n",
              "        document.querySelector('#' + key + ' button');\n",
              "      quickchartButtonEl.disabled = true;  // To prevent multiple clicks.\n",
              "      quickchartButtonEl.classList.add('colab-df-spinner');\n",
              "      try {\n",
              "        const charts = await google.colab.kernel.invokeFunction(\n",
              "            'suggestCharts', [key], {});\n",
              "      } catch (error) {\n",
              "        console.error('Error during call to suggestCharts:', error);\n",
              "      }\n",
              "      quickchartButtonEl.classList.remove('colab-df-spinner');\n",
              "      quickchartButtonEl.classList.add('colab-df-quickchart-complete');\n",
              "    }\n",
              "    (() => {\n",
              "      let quickchartButtonEl =\n",
              "        document.querySelector('#df-7421ad9e-25f5-4b1b-a458-22dfa7056db3 button');\n",
              "      quickchartButtonEl.style.display =\n",
              "        google.colab.kernel.accessAllowed ? 'block' : 'none';\n",
              "    })();\n",
              "  </script>\n",
              "</div>\n",
              "    </div>\n",
              "  </div>\n"
            ]
          },
          "metadata": {},
          "execution_count": 31
        }
      ]
    },
    {
      "cell_type": "code",
      "source": [
        "from sklearn.feature_extraction.text import TfidfTransformer"
      ],
      "metadata": {
        "id": "5iaae5_KHFRf"
      },
      "execution_count": 32,
      "outputs": []
    },
    {
      "cell_type": "code",
      "source": [
        "transformer = TfidfTransformer()\n",
        "X_train_data = transformer.fit_transform(X_train_data).toarray()\n",
        "\n",
        "print(X_train_data.shape)"
      ],
      "metadata": {
        "colab": {
          "base_uri": "https://localhost:8080/"
        },
        "id": "I6wxF4riOPcC",
        "outputId": "28345558-ed0a-40ce-c3fd-bc1afe275bf9"
      },
      "execution_count": 33,
      "outputs": [
        {
          "output_type": "stream",
          "name": "stdout",
          "text": [
            "(6188, 1625)\n"
          ]
        }
      ]
    },
    {
      "cell_type": "markdown",
      "source": [
        "### Naive Bayes"
      ],
      "metadata": {
        "id": "Z5-jENXzOURP"
      }
    },
    {
      "cell_type": "code",
      "source": [
        "from sklearn.naive_bayes import MultinomialNB\n",
        "from sklearn.metrics import accuracy_score\n",
        "from sklearn.metrics import classification_report\n",
        "from sklearn.metrics import confusion_matrix\n",
        "import seaborn as sn"
      ],
      "metadata": {
        "id": "VOTZHA1nOUIe"
      },
      "execution_count": 38,
      "outputs": []
    },
    {
      "cell_type": "code",
      "source": [
        "from sklearn.model_selection import train_test_split\n",
        "X1_train, X1_test, y1_train, y1_test = train_test_split(X_train_data, Y_train, test_size=0.25,random_state = 42)\n",
        "\n",
        "modelNB = MultinomialNB()\n",
        "y_train_pred = modelNB.fit(X1_train,y1_train.score).predict(X1_train)\n",
        "\n",
        "y_pred = modelNB.predict(X1_test)\n",
        "\n",
        "# comparing actual response values  with predicted response values\n",
        "from sklearn import metrics\n",
        "print(\"Multinomial Naive Bayes model train accuracy:\", metrics.accuracy_score(y1_train, y_train_pred)*100)\n",
        "print(\"Multinomial Naive Bayes model test accuracy:\", metrics.accuracy_score(y1_test, y_pred)*100)\n"
      ],
      "metadata": {
        "colab": {
          "base_uri": "https://localhost:8080/"
        },
        "id": "rHmcGulBOfsR",
        "outputId": "c412f4a0-f498-4401-bf6a-d32de853161a"
      },
      "execution_count": 65,
      "outputs": [
        {
          "output_type": "stream",
          "name": "stdout",
          "text": [
            "Multinomial Naive Bayes model train accuracy: 71.29928894634777\n",
            "Multinomial Naive Bayes model test accuracy: 59.469941822883\n"
          ]
        }
      ]
    },
    {
      "cell_type": "code",
      "source": [
        "cm = confusion_matrix(y1_test, y_pred)\n",
        "\n",
        "labels=['Negative', 'Neutral','Positive']\n",
        "plt.figure(figsize=(5,5))\n",
        "sn.heatmap(cm,  xticklabels=labels, yticklabels=labels, fmt='d', annot=True, cmap=plt.cm.Blues)\n",
        "plt.xlabel('Predicted')\n",
        "plt.ylabel('Actual')\n",
        "plt.show()"
      ],
      "metadata": {
        "colab": {
          "base_uri": "https://localhost:8080/",
          "height": 465
        },
        "id": "S3-LOnHHH9bD",
        "outputId": "dfd7cd38-8a5c-4ab8-c054-2717ebd137cc"
      },
      "execution_count": 40,
      "outputs": [
        {
          "output_type": "display_data",
          "data": {
            "text/plain": [
              "<Figure size 500x500 with 2 Axes>"
            ],
            "image/png": "[encoded data removed]"
          },
          "metadata": {}
        }
      ]
    },
    {
      "cell_type": "code",
      "source": [
        "print(classification_report(y1_test, y_pred, target_names=[' Negative',\t 'Neutral', 'Positive']))"
      ],
      "metadata": {
        "colab": {
          "base_uri": "https://localhost:8080/"
        },
        "id": "A99ndx6jIp0B",
        "outputId": "18e94168-ee45-4e29-fe94-bd63edf5b0c9"
      },
      "execution_count": 41,
      "outputs": [
        {
          "output_type": "stream",
          "name": "stdout",
          "text": [
            "              precision    recall  f1-score   support\n",
            "\n",
            "    Negative       0.62      0.63      0.62       553\n",
            "     Neutral       0.55      0.38      0.45       483\n",
            "    Positive       0.60      0.76      0.67       511\n",
            "\n",
            "    accuracy                           0.59      1547\n",
            "   macro avg       0.59      0.59      0.58      1547\n",
            "weighted avg       0.59      0.59      0.58      1547\n",
            "\n"
          ]
        }
      ]
    },
    {
      "cell_type": "markdown",
      "source": [
        "### Random Forest Classifier"
      ],
      "metadata": {
        "id": "tt8umJCX5m1F"
      }
    },
    {
      "cell_type": "code",
      "source": [
        "from sklearn.ensemble import RandomForestClassifier"
      ],
      "metadata": {
        "id": "sXZlTI4EPbbB"
      },
      "execution_count": 42,
      "outputs": []
    },
    {
      "cell_type": "code",
      "source": [
        "rf_model=RandomForestClassifier(n_estimators=300,min_samples_split = 10,min_samples_leaf = 8)\n",
        "train_pred = rf_model.fit(X1_train,y1_train.score).predict(X1_train)\n",
        "prediction = rf_model.score(X1_test,y1_test )\n",
        "print(\"Random Forest model train accuracy: \",metrics.accuracy_score(y1_train, train_pred)*100 )\n",
        "print(\"Random Forest model test accuracy: \", prediction*100)\n",
        "\n",
        "print(classification_report(y1_test, test_pred, target_names =['Negative','Neutral','Positive']))\n",
        "\n",
        "cm = confusion_matrix(y1_test, test_pred)\n",
        "labels=['Negative', 'Neutral','Positive']\n",
        "plt.figure(figsize=(5,5))\n",
        "sn.heatmap(cm,  xticklabels=labels, yticklabels=labels, fmt='d', annot=True, cmap=plt.cm.Blues)\n",
        "plt.xlabel('Predicted')\n",
        "plt.ylabel('Actual')\n",
        "plt.show()"
      ],
      "metadata": {
        "colab": {
          "base_uri": "https://localhost:8080/",
          "height": 668
        },
        "id": "-aHK9ehWaxZO",
        "outputId": "bdf280a7-0571-4b23-cbb1-c24232c1955c"
      },
      "execution_count": 83,
      "outputs": [
        {
          "output_type": "stream",
          "name": "stdout",
          "text": [
            "Random Forest model train accuracy:  73.992673992674\n",
            "Random Forest model test accuracy:  60.89204912734324\n",
            "              precision    recall  f1-score   support\n",
            "\n",
            "    Negative       0.61      0.67      0.64       553\n",
            "     Neutral       0.57      0.37      0.45       483\n",
            "    Positive       0.63      0.76      0.69       511\n",
            "\n",
            "    accuracy                           0.61      1547\n",
            "   macro avg       0.60      0.60      0.59      1547\n",
            "weighted avg       0.60      0.61      0.60      1547\n",
            "\n"
          ]
        },
        {
          "output_type": "display_data",
          "data": {
            "text/plain": [
              "<Figure size 500x500 with 2 Axes>"
            ],
            "image/png": "[encoded data removed]"
          },
          "metadata": {}
        }
      ]
    },
    {
      "cell_type": "markdown",
      "source": [
        "### RNN Model"
      ],
      "metadata": {
        "id": "iJ_waaqGVdID"
      }
    },
    {
      "cell_type": "code",
      "source": [
        "from tensorflow.keras.preprocessing.text import Tokenizer"
      ],
      "metadata": {
        "id": "3QXcowVTUKdl"
      },
      "execution_count": 44,
      "outputs": []
    },
    {
      "cell_type": "code",
      "source": [
        "tokenizer = Tokenizer(num_words=50000, lower=True,split=' ', char_level=False, oov_token='<UNK>', document_count=0)\n",
        "tokenizer.fit_on_texts(X_train)\n",
        "tokenizer.fit_on_texts(Y_train)\n",
        "\n",
        "wordindex=tokenizer.word_index"
      ],
      "metadata": {
        "id": "fXtyr3gCUNOP"
      },
      "execution_count": 45,
      "outputs": []
    },
    {
      "cell_type": "code",
      "source": [
        "tokenizer_config = tokenizer.get_config()\n",
        "tokenizer_config.keys()"
      ],
      "metadata": {
        "colab": {
          "base_uri": "https://localhost:8080/"
        },
        "id": "aRO_bDeHUQW6",
        "outputId": "e6b2a345-fb86-48dc-db7f-822fb3c29732"
      },
      "execution_count": 46,
      "outputs": [
        {
          "output_type": "execute_result",
          "data": {
            "text/plain": [
              "dict_keys(['num_words', 'filters', 'lower', 'split', 'char_level', 'oov_token', 'document_count', 'word_counts', 'word_docs', 'index_docs', 'index_word', 'word_index'])"
            ]
          },
          "metadata": {},
          "execution_count": 46
        }
      ]
    },
    {
      "cell_type": "code",
      "source": [
        "import tensorflow.keras.preprocessing.sequence as ps"
      ],
      "metadata": {
        "id": "lj-CSnHIURbv"
      },
      "execution_count": 47,
      "outputs": []
    },
    {
      "cell_type": "code",
      "source": [
        "max_length = 50\n",
        "train_sequence = tokenizer.texts_to_sequences(X_train)\n",
        "train_padding = ps.pad_sequences(train_sequence,maxlen=max_length,padding='post')\n",
        "\n",
        "test_sequence = tokenizer.texts_to_sequences(X_test)\n",
        "test_padding = ps.pad_sequences(test_sequence,maxlen=max_length,padding='post')\n",
        "Y_train.shape"
      ],
      "metadata": {
        "colab": {
          "base_uri": "https://localhost:8080/"
        },
        "id": "d7hD2leTUUoa",
        "outputId": "cf5fc83d-ba29-450c-9bc5-dee40a8ebc36"
      },
      "execution_count": 48,
      "outputs": [
        {
          "output_type": "execute_result",
          "data": {
            "text/plain": [
              "(6188, 1)"
            ]
          },
          "metadata": {},
          "execution_count": 48
        }
      ]
    },
    {
      "cell_type": "code",
      "source": [
        "from sklearn.preprocessing import OneHotEncoder"
      ],
      "metadata": {
        "id": "ZazccmJyUYKn"
      },
      "execution_count": 49,
      "outputs": []
    },
    {
      "cell_type": "code",
      "source": [
        "y_train = OneHotEncoder().fit_transform(Y_train)\n",
        "y_test = OneHotEncoder().fit_transform(Y_test)\n"
      ],
      "metadata": {
        "id": "mHyrKb8WUZ-3"
      },
      "execution_count": 50,
      "outputs": []
    },
    {
      "cell_type": "code",
      "source": [
        "print(y_train.shape)\n",
        "print(y_test.shape)"
      ],
      "metadata": {
        "colab": {
          "base_uri": "https://localhost:8080/"
        },
        "id": "JFga6D8CT_39",
        "outputId": "9561efa9-ccd1-49b6-9946-90c9108de85d"
      },
      "execution_count": 51,
      "outputs": [
        {
          "output_type": "stream",
          "name": "stdout",
          "text": [
            "(6188, 3)\n",
            "(2063, 3)\n"
          ]
        }
      ]
    },
    {
      "cell_type": "code",
      "source": [
        "from keras.models import Sequential\n",
        "from keras.layers import Dense, Embedding,Dropout\n",
        "import tensorflow\n",
        "from keras.callbacks import EarlyStopping\n",
        "from keras.layers import GlobalAveragePooling1D"
      ],
      "metadata": {
        "id": "AlBgKuCd8n1W"
      },
      "execution_count": 52,
      "outputs": []
    },
    {
      "cell_type": "code",
      "source": [
        "# Building the model\n",
        "base_model = Sequential()\n",
        "base_model.add(Embedding(50000,128,input_length=train_padding.shape[1]))\n",
        "base_model.add(GlobalAveragePooling1D())\n",
        "base_model.add(Dense(8,activation='relu'))\n",
        "base_model.add(Dense(3,activation='softmax'))\n",
        "base_model.summary()\n"
      ],
      "metadata": {
        "colab": {
          "base_uri": "https://localhost:8080/"
        },
        "id": "5H_yRsbFUhze",
        "outputId": "728f27a6-9f9e-497b-fbd3-b74328a1c7c9"
      },
      "execution_count": 53,
      "outputs": [
        {
          "output_type": "stream",
          "name": "stdout",
          "text": [
            "Model: \"sequential\"\n",
            "_________________________________________________________________\n",
            " Layer (type)                Output Shape              Param #   \n",
            "=================================================================\n",
            " embedding (Embedding)       (None, 50, 128)           6400000   \n",
            "                                                                 \n",
            " global_average_pooling1d (  (None, 128)               0         \n",
            " GlobalAveragePooling1D)                                         \n",
            "                                                                 \n",
            " dense (Dense)               (None, 8)                 1032      \n",
            "                                                                 \n",
            " dense_1 (Dense)             (None, 3)                 27        \n",
            "                                                                 \n",
            "=================================================================\n",
            "Total params: 6401059 (24.42 MB)\n",
            "Trainable params: 6401059 (24.42 MB)\n",
            "Non-trainable params: 0 (0.00 Byte)\n",
            "_________________________________________________________________\n"
          ]
        }
      ]
    },
    {
      "cell_type": "code",
      "source": [
        "base_model.compile(loss='categorical_crossentropy',optimizer='adam',metrics=['accuracy'])\n",
        "y_train=np.array(y_train.toarray())\n",
        "train_padding=np.array(train_padding)\n",
        "\n",
        "history_base = base_model.fit(train_padding,y_train ,epochs=10, validation_split=0.2)\n"
      ],
      "metadata": {
        "colab": {
          "base_uri": "https://localhost:8080/"
        },
        "id": "H5tOPkUjUlv2",
        "outputId": "8260c63c-8f33-4651-bd03-aef14b59663c"
      },
      "execution_count": 54,
      "outputs": [
        {
          "output_type": "stream",
          "name": "stdout",
          "text": [
            "Epoch 1/10\n",
            "155/155 [==============================] - 16s 94ms/step - loss: 1.0638 - accuracy: 0.4560 - val_loss: 0.9971 - val_accuracy: 0.5250\n",
            "Epoch 2/10\n",
            "155/155 [==============================] - 14s 92ms/step - loss: 0.9025 - accuracy: 0.5802 - val_loss: 0.8482 - val_accuracy: 0.6131\n",
            "Epoch 3/10\n",
            "155/155 [==============================] - 14s 91ms/step - loss: 0.7188 - accuracy: 0.7053 - val_loss: 0.7717 - val_accuracy: 0.6559\n",
            "Epoch 4/10\n",
            "155/155 [==============================] - 14s 91ms/step - loss: 0.5652 - accuracy: 0.7949 - val_loss: 0.7462 - val_accuracy: 0.6793\n",
            "Epoch 5/10\n",
            "155/155 [==============================] - 14s 93ms/step - loss: 0.4532 - accuracy: 0.8380 - val_loss: 0.7399 - val_accuracy: 0.6906\n",
            "Epoch 6/10\n",
            "155/155 [==============================] - 14s 94ms/step - loss: 0.3688 - accuracy: 0.8731 - val_loss: 0.7494 - val_accuracy: 0.6971\n",
            "Epoch 7/10\n",
            "155/155 [==============================] - 15s 97ms/step - loss: 0.3049 - accuracy: 0.9010 - val_loss: 0.7617 - val_accuracy: 0.7068\n",
            "Epoch 8/10\n",
            "155/155 [==============================] - 15s 97ms/step - loss: 0.2529 - accuracy: 0.9200 - val_loss: 0.7964 - val_accuracy: 0.7084\n",
            "Epoch 9/10\n",
            "155/155 [==============================] - 16s 103ms/step - loss: 0.2140 - accuracy: 0.9325 - val_loss: 0.8273 - val_accuracy: 0.7092\n",
            "Epoch 10/10\n",
            "155/155 [==============================] - 14s 91ms/step - loss: 0.1785 - accuracy: 0.9471 - val_loss: 0.8453 - val_accuracy: 0.7205\n"
          ]
        }
      ]
    },
    {
      "cell_type": "markdown",
      "source": [
        "Graph before regularization"
      ],
      "metadata": {
        "id": "yuoZMfzl7-v5"
      }
    },
    {
      "cell_type": "code",
      "source": [
        "plt.style.use('seaborn-darkgrid')\n",
        "def plot_graphs(history, metric):\n",
        "  plt.plot(history.history[metric])\n",
        "  plt.plot(history.history['val_'+metric], '')\n",
        "  plt.xlabel(\"Epochs\")\n",
        "  plt.ylabel(metric)\n",
        "  plt.legend([metric, 'val_'+metric])\n",
        "\n",
        "plt.figure(figsize=(15, 10))\n",
        "plt.subplot(1, 2, 1)\n",
        "plot_graphs(history_base, 'accuracy')\n",
        "plt.ylim(None, 1)\n",
        "plt.subplot(1, 2, 2)\n",
        "plot_graphs(history_base, 'loss')\n",
        "plt.ylim(0, None)"
      ],
      "metadata": {
        "colab": {
          "base_uri": "https://localhost:8080/",
          "height": 922
        },
        "id": "UkzL5AzmU4BF",
        "outputId": "2f4e129b-7f09-4423-ba3e-2342fb1bd12f"
      },
      "execution_count": 55,
      "outputs": [
        {
          "output_type": "stream",
          "name": "stderr",
          "text": [
            "<ipython-input-55-4c115d5840cd>:1: MatplotlibDeprecationWarning: The seaborn styles shipped by Matplotlib are deprecated since 3.6, as they no longer correspond to the styles shipped by seaborn. However, they will remain available as 'seaborn-v0_8-<style>'. Alternatively, directly use the seaborn API instead.\n",
            "  plt.style.use('seaborn-darkgrid')\n"
          ]
        },
        {
          "output_type": "execute_result",
          "data": {
            "text/plain": [
              "(0.0, 1.1081081233918666)"
            ]
          },
          "metadata": {},
          "execution_count": 55
        },
        {
          "output_type": "display_data",
          "data": {
            "text/plain": [
              "<Figure size 1500x1000 with 2 Axes>"
            ],
            "image/png": "[encoded data removed]"
          },
          "metadata": {}
        }
      ]
    },
    {
      "cell_type": "markdown",
      "source": [
        "Handling overfit"
      ],
      "metadata": {
        "id": "L1jstZ7cF_u6"
      }
    },
    {
      "cell_type": "code",
      "source": [
        "regularise = tensorflow.keras.regularizers.l2(0.001)\n",
        "\n",
        "modelRNN = Sequential()\n",
        "modelRNN.add(Embedding(50000,128,input_length=train_padding.shape[1]))\n",
        "modelRNN.add(Dropout(0.5))\n",
        "modelRNN.add(GlobalAveragePooling1D())\n",
        "modelRNN.add(Dense(8,activation='relu',kernel_regularizer=regularise))\n",
        "modelRNN.add(Dropout(0.5))\n",
        "modelRNN.add(Dense(3,activation='softmax'))\n",
        "modelRNN.summary()\n"
      ],
      "metadata": {
        "colab": {
          "base_uri": "https://localhost:8080/"
        },
        "id": "ywXEedCEWZ8O",
        "outputId": "c890c3ce-ed77-4ab6-b027-ae21c31e6c56"
      },
      "execution_count": 56,
      "outputs": [
        {
          "output_type": "stream",
          "name": "stdout",
          "text": [
            "Model: \"sequential_1\"\n",
            "_________________________________________________________________\n",
            " Layer (type)                Output Shape              Param #   \n",
            "=================================================================\n",
            " embedding_1 (Embedding)     (None, 50, 128)           6400000   \n",
            "                                                                 \n",
            " dropout (Dropout)           (None, 50, 128)           0         \n",
            "                                                                 \n",
            " global_average_pooling1d_1  (None, 128)               0         \n",
            "  (GlobalAveragePooling1D)                                       \n",
            "                                                                 \n",
            " dense_2 (Dense)             (None, 8)                 1032      \n",
            "                                                                 \n",
            " dropout_1 (Dropout)         (None, 8)                 0         \n",
            "                                                                 \n",
            " dense_3 (Dense)             (None, 3)                 27        \n",
            "                                                                 \n",
            "=================================================================\n",
            "Total params: 6401059 (24.42 MB)\n",
            "Trainable params: 6401059 (24.42 MB)\n",
            "Non-trainable params: 0 (0.00 Byte)\n",
            "_________________________________________________________________\n"
          ]
        }
      ]
    },
    {
      "cell_type": "code",
      "source": [
        "modelRNN.compile(loss='categorical_crossentropy',optimizer='adam',metrics=['accuracy'])\n",
        "historyRNN = modelRNN.fit(train_padding,y_train ,epochs=10, validation_split=0.2)"
      ],
      "metadata": {
        "colab": {
          "base_uri": "https://localhost:8080/"
        },
        "id": "t0RrFMB7Y0aZ",
        "outputId": "5e1e4a24-5763-4d09-d5b6-195cdca75c66"
      },
      "execution_count": 57,
      "outputs": [
        {
          "output_type": "stream",
          "name": "stdout",
          "text": [
            "Epoch 1/10\n",
            "155/155 [==============================] - 15s 91ms/step - loss: 1.0988 - accuracy: 0.3861 - val_loss: 1.0761 - val_accuracy: 0.4645\n",
            "Epoch 2/10\n",
            "155/155 [==============================] - 14s 87ms/step - loss: 1.0543 - accuracy: 0.4459 - val_loss: 1.0084 - val_accuracy: 0.5404\n",
            "Epoch 3/10\n",
            "155/155 [==============================] - 14s 90ms/step - loss: 0.9844 - accuracy: 0.5360 - val_loss: 0.9401 - val_accuracy: 0.5977\n",
            "Epoch 4/10\n",
            "155/155 [==============================] - 14s 93ms/step - loss: 0.9171 - accuracy: 0.5897 - val_loss: 0.8972 - val_accuracy: 0.6139\n",
            "Epoch 5/10\n",
            "155/155 [==============================] - 14s 90ms/step - loss: 0.8661 - accuracy: 0.6232 - val_loss: 0.8665 - val_accuracy: 0.6292\n",
            "Epoch 6/10\n",
            "155/155 [==============================] - 14s 88ms/step - loss: 0.8296 - accuracy: 0.6642 - val_loss: 0.8594 - val_accuracy: 0.6268\n",
            "Epoch 7/10\n",
            "155/155 [==============================] - 14s 89ms/step - loss: 0.7952 - accuracy: 0.6832 - val_loss: 0.8406 - val_accuracy: 0.6462\n",
            "Epoch 8/10\n",
            "155/155 [==============================] - 14s 90ms/step - loss: 0.7679 - accuracy: 0.7095 - val_loss: 0.8395 - val_accuracy: 0.6599\n",
            "Epoch 9/10\n",
            "155/155 [==============================] - 14s 89ms/step - loss: 0.7425 - accuracy: 0.7228 - val_loss: 0.8305 - val_accuracy: 0.6769\n",
            "Epoch 10/10\n",
            "155/155 [==============================] - 14s 88ms/step - loss: 0.7196 - accuracy: 0.7420 - val_loss: 0.8295 - val_accuracy: 0.6721\n"
          ]
        }
      ]
    },
    {
      "cell_type": "markdown",
      "source": [
        "Graph after regularization"
      ],
      "metadata": {
        "id": "IF5L9vpa8DDB"
      }
    },
    {
      "cell_type": "code",
      "source": [
        "plt.figure(figsize=(15, 10))\n",
        "plt.subplot(1, 2, 1)\n",
        "plot_graphs(historyRNN, 'accuracy')\n",
        "plt.ylim(None, 1)\n",
        "plt.subplot(1, 2, 2)\n",
        "plot_graphs(historyRNN, 'loss')\n",
        "plt.ylim(0, None)"
      ],
      "metadata": {
        "colab": {
          "base_uri": "https://localhost:8080/",
          "height": 867
        },
        "id": "E51Ai1WCY7Am",
        "outputId": "48592087-1b49-40a3-bc86-4ccae67a60ed"
      },
      "execution_count": 58,
      "outputs": [
        {
          "output_type": "execute_result",
          "data": {
            "text/plain": [
              "(0.0, 1.1177223026752472)"
            ]
          },
          "metadata": {},
          "execution_count": 58
        },
        {
          "output_type": "display_data",
          "data": {
            "text/plain": [
              "<Figure size 1500x1000 with 2 Axes>"
            ],
            "image/png": "[encoded data removed]"
          },
          "metadata": {}
        }
      ]
    },
    {
      "cell_type": "markdown",
      "source": [
        "Model Score"
      ],
      "metadata": {
        "id": "KpCJcs_8ZBnS"
      }
    },
    {
      "cell_type": "code",
      "source": [
        "score = modelRNN.evaluate(test_padding,y_test.toarray())\n",
        "print(\"Testing Accuracy: \", score[1]*100)"
      ],
      "metadata": {
        "colab": {
          "base_uri": "https://localhost:8080/"
        },
        "id": "5WxTOtTUY_0p",
        "outputId": "23077454-7dfb-4404-e916-f3acebc2a409"
      },
      "execution_count": 59,
      "outputs": [
        {
          "output_type": "stream",
          "name": "stdout",
          "text": [
            "65/65 [==============================] - 0s 2ms/step - loss: 0.8390 - accuracy: 0.6718\n",
            "Testing Accuracy:  67.18371510505676\n"
          ]
        }
      ]
    },
    {
      "cell_type": "code",
      "source": [
        "y_pred = modelRNN.predict(test_padding)\n",
        "y_predicted_labels = np.array([ np.argmax(i) for i in y_pred])\n",
        "y_test_labels = np.array([ np.argmax(i) for i in y_test])\n",
        "\n",
        "cm = confusion_matrix(y_test_labels, y_predicted_labels)\n",
        "\n",
        "labels=['Negative', 'Neutral','Positive']\n",
        "plt.figure(figsize=(5,5))\n",
        "sn.heatmap(cm,  xticklabels=labels, yticklabels=labels, fmt='d', annot=True, cmap=plt.cm.Blues)\n",
        "plt.xlabel('Predicted')\n",
        "plt.ylabel('Actual')\n",
        "plt.show()"
      ],
      "metadata": {
        "colab": {
          "base_uri": "https://localhost:8080/",
          "height": 477
        },
        "id": "6cvWF2N0OIbg",
        "outputId": "13bf5280-9010-41f4-d42b-1aca1577f529"
      },
      "execution_count": 60,
      "outputs": [
        {
          "output_type": "stream",
          "name": "stdout",
          "text": [
            "65/65 [==============================] - 0s 2ms/step\n"
          ]
        },
        {
          "output_type": "display_data",
          "data": {
            "text/plain": [
              "<Figure size 500x500 with 2 Axes>"
            ],
            "image/png": "[encoded data removed]"
          },
          "metadata": {}
        }
      ]
    },
    {
      "cell_type": "code",
      "source": [
        "print(classification_report(y_test_labels, y_predicted_labels, target_names=[' Negative',\t 'Neutral', 'Positive']))"
      ],
      "metadata": {
        "colab": {
          "base_uri": "https://localhost:8080/"
        },
        "id": "aQuYcKrCQtON",
        "outputId": "6f428689-4e90-4475-996f-311e8db1acd2"
      },
      "execution_count": 61,
      "outputs": [
        {
          "output_type": "stream",
          "name": "stdout",
          "text": [
            "              precision    recall  f1-score   support\n",
            "\n",
            "    Negative       0.65      0.77      0.70       714\n",
            "     Neutral       0.61      0.50      0.55       674\n",
            "    Positive       0.76      0.74      0.75       675\n",
            "\n",
            "    accuracy                           0.67      2063\n",
            "   macro avg       0.67      0.67      0.67      2063\n",
            "weighted avg       0.67      0.67      0.67      2063\n",
            "\n"
          ]
        }
      ]
    }
  ]
}